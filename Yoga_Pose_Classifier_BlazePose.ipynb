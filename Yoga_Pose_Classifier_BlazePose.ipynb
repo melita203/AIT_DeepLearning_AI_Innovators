{
  "nbformat": 4,
  "nbformat_minor": 0,
  "metadata": {
    "colab": {
      "provenance": [],
      "authorship_tag": "ABX9TyPTOkE7MG02zBfT8Dn7XCEt",
      "include_colab_link": true
    },
    "kernelspec": {
      "name": "python3",
      "display_name": "Python 3"
    },
    "language_info": {
      "name": "python"
    }
  },
  "cells": [
    {
      "cell_type": "markdown",
      "metadata": {
        "id": "view-in-github",
        "colab_type": "text"
      },
      "source": [
        "<a href=\"https://colab.research.google.com/github/melita203/AIT_DeepLearning_AI_Innovators/blob/main/Yoga_Pose_Classifier_BlazePose.ipynb\" target=\"_parent\"><img src=\"https://colab.research.google.com/assets/colab-badge.svg\" alt=\"Open In Colab\"/></a>"
      ]
    },
    {
      "cell_type": "code",
      "source": [
        "from google.colab import drive\n",
        "drive.mount('/content/drive')"
      ],
      "metadata": {
        "colab": {
          "base_uri": "https://localhost:8080/"
        },
        "id": "CRVi48dFb__u",
        "outputId": "9c80d556-6c52-43e8-b8bf-6fbf0913a516"
      },
      "execution_count": 1,
      "outputs": [
        {
          "output_type": "stream",
          "name": "stdout",
          "text": [
            "Drive already mounted at /content/drive; to attempt to forcibly remount, call drive.mount(\"/content/drive\", force_remount=True).\n"
          ]
        }
      ]
    },
    {
      "cell_type": "code",
      "source": [
        "DATASET_PATH = '/content/drive/MyDrive/deep_learning_project/Dataset'"
      ],
      "metadata": {
        "id": "T_zzg9Ram_YA"
      },
      "execution_count": 2,
      "outputs": []
    },
    {
      "cell_type": "code",
      "source": [
        "import os\n",
        "\n",
        "print(\"Train folder:\", os.listdir(os.path.join(DATASET_PATH, 'TRAIN')))\n",
        "print(\"Validation folder:\", os.listdir(os.path.join(DATASET_PATH, 'VALIDATION')))\n",
        "print(\"Test folder:\", os.listdir(os.path.join(DATASET_PATH, 'TEST')))"
      ],
      "metadata": {
        "colab": {
          "base_uri": "https://localhost:8080/"
        },
        "id": "M22AFIzKnEpf",
        "outputId": "bb5aeb25-5f00-450a-a7fd-618d3d794053"
      },
      "execution_count": 3,
      "outputs": [
        {
          "output_type": "stream",
          "name": "stdout",
          "text": [
            "Train folder: ['.DS_Store', 'warrior_train', 'plank_train', 'goddess_train', 'downdog_train', 'tree_train']\n",
            "Validation folder: ['downdog_val', 'tree_val', 'plank_val', 'goddess_val', 'warrior_val']\n",
            "Test folder: ['.DS_Store', 'goddess_test', 'downdog_test', 'warrior_test', 'tree_test', 'plank_test']\n"
          ]
        }
      ]
    },
    {
      "cell_type": "code",
      "source": [
        "import numpy as np\n",
        "import mediapipe as mp\n",
        "import cv2\n",
        "import os\n",
        "from tqdm import tqdm\n",
        "\n",
        "# initialize the blazepose\n",
        "mp_pose = mp.solutions.pose\n",
        "pose = mp_pose.Pose(static_image_mode=True)\n",
        "\n",
        "# define the paths\n",
        "train_path = os.path.join(DATASET_PATH, 'TRAIN')\n",
        "val_path = os.path.join(DATASET_PATH, 'VALIDATION')\n",
        "test_path = os.path.join(DATASET_PATH, 'TEST')\n",
        "\n",
        "# helper function to process a folder\n",
        "def process_folder(folder_path):\n",
        "    X = []\n",
        "    Y = []\n",
        "    class_names = sorted([folder for folder in os.listdir(folder_path) if not folder.startswith('.')])  # skip .DS_Store\n",
        "    print(f\"Classes found: {class_names}\")\n",
        "\n",
        "    for idx, folder in enumerate(class_names):\n",
        "        full_folder_path = os.path.join(folder_path, folder)\n",
        "        if not os.path.isdir(full_folder_path):\n",
        "            continue\n",
        "        print(f\"Processing '{folder}' with label {idx}\")\n",
        "        for filename in tqdm(os.listdir(full_folder_path)):\n",
        "            if filename.lower().endswith(('.jpg', '.jpeg', '.png')):\n",
        "                file_path = os.path.join(full_folder_path, filename)\n",
        "                img = cv2.imread(file_path)\n",
        "                if img is None:\n",
        "                    print(f\"Could not read image {file_path}\")\n",
        "                    continue\n",
        "                img_rgb = cv2.cvtColor(img, cv2.COLOR_BGR2RGB)\n",
        "                results = pose.process(img_rgb)\n",
        "                if results.pose_landmarks:\n",
        "                    keypoints = []\n",
        "                    for lm in results.pose_landmarks.landmark:\n",
        "                        keypoints.extend([lm.x, lm.y, lm.z])\n",
        "                    X.append(keypoints)\n",
        "                    Y.append(idx)\n",
        "                else:\n",
        "                    print(f\"No landmarks detected for {file_path}\")\n",
        "    return np.array(X), np.array(Y), class_names\n",
        "\n",
        "# processing train\n",
        "print(\"Processing Training Data...\")\n",
        "X_train, Y_train, class_names_train = process_folder(train_path)\n",
        "\n",
        "# process validation\n",
        "print(\"Processing Validation Data...\")\n",
        "X_val, Y_val, class_names_val = process_folder(val_path)\n",
        "\n",
        "# process Test\n",
        "print(\"Processing Test Data...\")\n",
        "X_test, Y_test, class_names_test = process_folder(test_path)\n",
        "\n",
        "# save processed data\n",
        "np.save('X_train_blazepose.npy', X_train)\n",
        "np.save('Y_train_blazepose.npy', Y_train)\n",
        "\n",
        "np.save('X_val_blazepose.npy', X_val)\n",
        "np.save('Y_val_blazepose.npy', Y_val)\n",
        "\n",
        "np.save('X_test_blazepose.npy', X_test)\n",
        "np.save('Y_test_blazepose.npy', Y_test)\n",
        "\n",
        "print(\"Saved all processed datasets successfully!\")\n",
        "print(f\"Train shape: {X_train.shape}, Val shape: {X_val.shape}, Test shape: {X_test.shape}\")"
      ],
      "metadata": {
        "colab": {
          "base_uri": "https://localhost:8080/"
        },
        "id": "YpH4nJNnnFp4",
        "outputId": "e9b6c731-295f-4131-be64-8ffb9ae073c3"
      },
      "execution_count": 4,
      "outputs": [
        {
          "output_type": "stream",
          "name": "stdout",
          "text": [
            "Processing Training Data...\n",
            "Classes found: ['downdog_train', 'goddess_train', 'plank_train', 'tree_train', 'warrior_train']\n",
            "Processing 'downdog_train' with label 0\n"
          ]
        },
        {
          "output_type": "stream",
          "name": "stderr",
          "text": [
            "  1%|          | 11/1285 [00:06<09:28,  2.24it/s]"
          ]
        },
        {
          "output_type": "stream",
          "name": "stdout",
          "text": [
            "No landmarks detected for /content/drive/MyDrive/deep_learning_project/Dataset/TRAIN/downdog_train/00000223_augmented_1.jpg\n"
          ]
        },
        {
          "output_type": "stream",
          "name": "stderr",
          "text": [
            "\r  1%|          | 12/1285 [00:07<08:57,  2.37it/s]"
          ]
        },
        {
          "output_type": "stream",
          "name": "stdout",
          "text": [
            "No landmarks detected for /content/drive/MyDrive/deep_learning_project/Dataset/TRAIN/downdog_train/00000248_augmented_6.jpg\n"
          ]
        },
        {
          "output_type": "stream",
          "name": "stderr",
          "text": [
            "\r  1%|          | 13/1285 [00:07<08:43,  2.43it/s]"
          ]
        },
        {
          "output_type": "stream",
          "name": "stdout",
          "text": [
            "No landmarks detected for /content/drive/MyDrive/deep_learning_project/Dataset/TRAIN/downdog_train/00000300_augmented_2.jpg\n"
          ]
        },
        {
          "output_type": "stream",
          "name": "stderr",
          "text": [
            "  2%|▏         | 24/1285 [00:24<06:24,  3.28it/s]"
          ]
        },
        {
          "output_type": "stream",
          "name": "stdout",
          "text": [
            "No landmarks detected for /content/drive/MyDrive/deep_learning_project/Dataset/TRAIN/downdog_train/00000235_augmented_2.jpg\n"
          ]
        },
        {
          "output_type": "stream",
          "name": "stderr",
          "text": [
            "  2%|▏         | 27/1285 [00:25<03:57,  5.29it/s]"
          ]
        },
        {
          "output_type": "stream",
          "name": "stdout",
          "text": [
            "No landmarks detected for /content/drive/MyDrive/deep_learning_project/Dataset/TRAIN/downdog_train/00000232_augmented_6.jpg\n"
          ]
        },
        {
          "output_type": "stream",
          "name": "stderr",
          "text": [
            "  3%|▎         | 44/1285 [00:26<01:55, 10.72it/s]"
          ]
        },
        {
          "output_type": "stream",
          "name": "stdout",
          "text": [
            "No landmarks detected for /content/drive/MyDrive/deep_learning_project/Dataset/TRAIN/downdog_train/00000235_augmented_3.jpg\n"
          ]
        },
        {
          "output_type": "stream",
          "name": "stderr",
          "text": [
            "  4%|▍         | 53/1285 [00:27<01:30, 13.54it/s]"
          ]
        },
        {
          "output_type": "stream",
          "name": "stdout",
          "text": [
            "No landmarks detected for /content/drive/MyDrive/deep_learning_project/Dataset/TRAIN/downdog_train/00000232_augmented_7.jpg\n",
            "No landmarks detected for /content/drive/MyDrive/deep_learning_project/Dataset/TRAIN/downdog_train/00000212.png\n"
          ]
        },
        {
          "output_type": "stream",
          "name": "stderr",
          "text": [
            "  5%|▍         | 62/1285 [00:28<01:24, 14.55it/s]"
          ]
        },
        {
          "output_type": "stream",
          "name": "stdout",
          "text": [
            "No landmarks detected for /content/drive/MyDrive/deep_learning_project/Dataset/TRAIN/downdog_train/00000224_augmented_4.jpg\n"
          ]
        },
        {
          "output_type": "stream",
          "name": "stderr",
          "text": [
            "  5%|▌         | 66/1285 [00:28<01:19, 15.40it/s]"
          ]
        },
        {
          "output_type": "stream",
          "name": "stdout",
          "text": [
            "No landmarks detected for /content/drive/MyDrive/deep_learning_project/Dataset/TRAIN/downdog_train/00000300_augmented_3.jpg\n"
          ]
        },
        {
          "output_type": "stream",
          "name": "stderr",
          "text": [
            "  6%|▌         | 72/1285 [00:28<01:26, 13.96it/s]"
          ]
        },
        {
          "output_type": "stream",
          "name": "stdout",
          "text": [
            "No landmarks detected for /content/drive/MyDrive/deep_learning_project/Dataset/TRAIN/downdog_train/00000223_augmented_0.jpg\n"
          ]
        },
        {
          "output_type": "stream",
          "name": "stderr",
          "text": [
            "  6%|▋         | 82/1285 [00:29<01:22, 14.64it/s]"
          ]
        },
        {
          "output_type": "stream",
          "name": "stdout",
          "text": [
            "No landmarks detected for /content/drive/MyDrive/deep_learning_project/Dataset/TRAIN/downdog_train/00000173_augmented_4.jpg\n"
          ]
        },
        {
          "output_type": "stream",
          "name": "stderr",
          "text": [
            "  7%|▋         | 88/1285 [00:29<01:18, 15.22it/s]"
          ]
        },
        {
          "output_type": "stream",
          "name": "stdout",
          "text": [
            "No landmarks detected for /content/drive/MyDrive/deep_learning_project/Dataset/TRAIN/downdog_train/00000232_augmented_0.jpg\n",
            "No landmarks detected for /content/drive/MyDrive/deep_learning_project/Dataset/TRAIN/downdog_train/00000232_augmented_1.jpg\n"
          ]
        },
        {
          "output_type": "stream",
          "name": "stderr",
          "text": [
            "  8%|▊         | 101/1285 [00:30<01:15, 15.65it/s]"
          ]
        },
        {
          "output_type": "stream",
          "name": "stdout",
          "text": [
            "No landmarks detected for /content/drive/MyDrive/deep_learning_project/Dataset/TRAIN/downdog_train/00000235_augmented_4.jpg\n"
          ]
        },
        {
          "output_type": "stream",
          "name": "stderr",
          "text": [
            "  9%|▉         | 118/1285 [00:31<01:09, 16.70it/s]"
          ]
        },
        {
          "output_type": "stream",
          "name": "stdout",
          "text": [
            "No landmarks detected for /content/drive/MyDrive/deep_learning_project/Dataset/TRAIN/downdog_train/00000235_augmented_5.jpg\n"
          ]
        },
        {
          "output_type": "stream",
          "name": "stderr",
          "text": [
            " 10%|▉         | 128/1285 [00:32<01:26, 13.34it/s]"
          ]
        },
        {
          "output_type": "stream",
          "name": "stdout",
          "text": [
            "No landmarks detected for /content/drive/MyDrive/deep_learning_project/Dataset/TRAIN/downdog_train/00000173_augmented_5.jpg\n",
            "No landmarks detected for /content/drive/MyDrive/deep_learning_project/Dataset/TRAIN/downdog_train/00000223_augmented_6.jpg\n"
          ]
        },
        {
          "output_type": "stream",
          "name": "stderr",
          "text": [
            " 11%|█         | 136/1285 [00:33<01:15, 15.16it/s]"
          ]
        },
        {
          "output_type": "stream",
          "name": "stdout",
          "text": [
            "No landmarks detected for /content/drive/MyDrive/deep_learning_project/Dataset/TRAIN/downdog_train/00000224_augmented_2.jpg\n"
          ]
        },
        {
          "output_type": "stream",
          "name": "stderr",
          "text": [
            " 11%|█         | 143/1285 [00:33<01:15, 15.13it/s]"
          ]
        },
        {
          "output_type": "stream",
          "name": "stdout",
          "text": [
            "No landmarks detected for /content/drive/MyDrive/deep_learning_project/Dataset/TRAIN/downdog_train/00000285_augmented_2.jpg\n",
            "No landmarks detected for /content/drive/MyDrive/deep_learning_project/Dataset/TRAIN/downdog_train/00000300_augmented_1.jpg\n",
            "No landmarks detected for /content/drive/MyDrive/deep_learning_project/Dataset/TRAIN/downdog_train/00000300_augmented_5.jpg\n"
          ]
        },
        {
          "output_type": "stream",
          "name": "stderr",
          "text": [
            " 12%|█▏        | 148/1285 [00:33<01:02, 18.07it/s]"
          ]
        },
        {
          "output_type": "stream",
          "name": "stdout",
          "text": [
            "No landmarks detected for /content/drive/MyDrive/deep_learning_project/Dataset/TRAIN/downdog_train/00000224_augmented_6.jpg\n"
          ]
        },
        {
          "output_type": "stream",
          "name": "stderr",
          "text": [
            " 12%|█▏        | 159/1285 [00:34<01:16, 14.68it/s]"
          ]
        },
        {
          "output_type": "stream",
          "name": "stdout",
          "text": [
            "No landmarks detected for /content/drive/MyDrive/deep_learning_project/Dataset/TRAIN/downdog_train/00000223_augmented_2.jpg\n"
          ]
        },
        {
          "output_type": "stream",
          "name": "stderr",
          "text": [
            " 13%|█▎        | 169/1285 [00:35<01:13, 15.10it/s]"
          ]
        },
        {
          "output_type": "stream",
          "name": "stdout",
          "text": [
            "No landmarks detected for /content/drive/MyDrive/deep_learning_project/Dataset/TRAIN/downdog_train/00000173_augmented_1.jpg\n"
          ]
        },
        {
          "output_type": "stream",
          "name": "stderr",
          "text": [
            " 14%|█▍        | 182/1285 [00:36<01:10, 15.60it/s]"
          ]
        },
        {
          "output_type": "stream",
          "name": "stdout",
          "text": [
            "No landmarks detected for /content/drive/MyDrive/deep_learning_project/Dataset/TRAIN/downdog_train/00000232_augmented_5.jpg\n",
            "No landmarks detected for /content/drive/MyDrive/deep_learning_project/Dataset/TRAIN/downdog_train/00000235_augmented_1.jpg\n"
          ]
        },
        {
          "output_type": "stream",
          "name": "stderr",
          "text": [
            " 15%|█▍        | 187/1285 [00:36<01:08, 15.98it/s]"
          ]
        },
        {
          "output_type": "stream",
          "name": "stdout",
          "text": [
            "No landmarks detected for /content/drive/MyDrive/deep_learning_project/Dataset/TRAIN/downdog_train/00000235_augmented_0.jpg\n",
            "No landmarks detected for /content/drive/MyDrive/deep_learning_project/Dataset/TRAIN/downdog_train/00000232_augmented_4.jpg\n"
          ]
        },
        {
          "output_type": "stream",
          "name": "stderr",
          "text": [
            " 15%|█▌        | 193/1285 [00:36<01:09, 15.79it/s]"
          ]
        },
        {
          "output_type": "stream",
          "name": "stdout",
          "text": [
            "No landmarks detected for /content/drive/MyDrive/deep_learning_project/Dataset/TRAIN/downdog_train/00000173_augmented_0.jpg\n"
          ]
        },
        {
          "output_type": "stream",
          "name": "stderr",
          "text": [
            " 16%|█▌        | 201/1285 [00:37<01:27, 12.41it/s]"
          ]
        },
        {
          "output_type": "stream",
          "name": "stdout",
          "text": [
            "No landmarks detected for /content/drive/MyDrive/deep_learning_project/Dataset/TRAIN/downdog_train/00000239.jpg\n"
          ]
        },
        {
          "output_type": "stream",
          "name": "stderr",
          "text": [
            " 16%|█▌        | 205/1285 [00:38<01:37, 11.10it/s]"
          ]
        },
        {
          "output_type": "stream",
          "name": "stdout",
          "text": [
            "No landmarks detected for /content/drive/MyDrive/deep_learning_project/Dataset/TRAIN/downdog_train/00000285_augmented_3.jpg\n"
          ]
        },
        {
          "output_type": "stream",
          "name": "stderr",
          "text": [
            " 17%|█▋        | 213/1285 [00:38<01:43, 10.37it/s]"
          ]
        },
        {
          "output_type": "stream",
          "name": "stdout",
          "text": [
            "No landmarks detected for /content/drive/MyDrive/deep_learning_project/Dataset/TRAIN/downdog_train/00000173.jpg\n",
            "No landmarks detected for /content/drive/MyDrive/deep_learning_project/Dataset/TRAIN/downdog_train/00000300_augmented_0.jpg\n"
          ]
        },
        {
          "output_type": "stream",
          "name": "stderr",
          "text": [
            " 17%|█▋        | 219/1285 [00:39<01:46, 10.02it/s]"
          ]
        },
        {
          "output_type": "stream",
          "name": "stdout",
          "text": [
            "No landmarks detected for /content/drive/MyDrive/deep_learning_project/Dataset/TRAIN/downdog_train/00000224_augmented_7.jpg\n"
          ]
        },
        {
          "output_type": "stream",
          "name": "stderr",
          "text": [
            " 17%|█▋        | 224/1285 [00:39<01:42, 10.32it/s]"
          ]
        },
        {
          "output_type": "stream",
          "name": "stdout",
          "text": [
            "No landmarks detected for /content/drive/MyDrive/deep_learning_project/Dataset/TRAIN/downdog_train/00000224_augmented_5.jpg\n"
          ]
        },
        {
          "output_type": "stream",
          "name": "stderr",
          "text": [
            " 18%|█▊        | 230/1285 [00:40<01:38, 10.67it/s]"
          ]
        },
        {
          "output_type": "stream",
          "name": "stdout",
          "text": [
            "No landmarks detected for /content/drive/MyDrive/deep_learning_project/Dataset/TRAIN/downdog_train/00000283_augmented_2.jpg\n"
          ]
        },
        {
          "output_type": "stream",
          "name": "stderr",
          "text": [
            " 19%|█▊        | 238/1285 [00:41<01:44, 10.01it/s]"
          ]
        },
        {
          "output_type": "stream",
          "name": "stdout",
          "text": [
            "No landmarks detected for /content/drive/MyDrive/deep_learning_project/Dataset/TRAIN/downdog_train/00000322_augmented_0.jpg\n"
          ]
        },
        {
          "output_type": "stream",
          "name": "stderr",
          "text": [
            " 21%|██        | 265/1285 [00:43<01:20, 12.71it/s]"
          ]
        },
        {
          "output_type": "stream",
          "name": "stdout",
          "text": [
            "No landmarks detected for /content/drive/MyDrive/deep_learning_project/Dataset/TRAIN/downdog_train/00000224_augmented_0.jpg\n",
            "No landmarks detected for /content/drive/MyDrive/deep_learning_project/Dataset/TRAIN/downdog_train/00000300_augmented_7.jpg\n"
          ]
        },
        {
          "output_type": "stream",
          "name": "stderr",
          "text": [
            " 22%|██▏       | 278/1285 [00:44<01:10, 14.19it/s]"
          ]
        },
        {
          "output_type": "stream",
          "name": "stdout",
          "text": [
            "No landmarks detected for /content/drive/MyDrive/deep_learning_project/Dataset/TRAIN/downdog_train/00000285_augmented_4.jpg\n"
          ]
        },
        {
          "output_type": "stream",
          "name": "stderr",
          "text": [
            " 23%|██▎       | 294/1285 [00:45<01:09, 14.18it/s]"
          ]
        },
        {
          "output_type": "stream",
          "name": "stdout",
          "text": [
            "No landmarks detected for /content/drive/MyDrive/deep_learning_project/Dataset/TRAIN/downdog_train/00000173_augmented_7.jpg\n"
          ]
        },
        {
          "output_type": "stream",
          "name": "stderr",
          "text": [
            " 23%|██▎       | 299/1285 [00:46<00:59, 16.52it/s]"
          ]
        },
        {
          "output_type": "stream",
          "name": "stdout",
          "text": [
            "No landmarks detected for /content/drive/MyDrive/deep_learning_project/Dataset/TRAIN/downdog_train/00000232_augmented_3.jpg\n",
            "No landmarks detected for /content/drive/MyDrive/deep_learning_project/Dataset/TRAIN/downdog_train/00000235_augmented_7.jpg\n"
          ]
        },
        {
          "output_type": "stream",
          "name": "stderr",
          "text": [
            " 24%|██▎       | 304/1285 [00:46<00:59, 16.41it/s]"
          ]
        },
        {
          "output_type": "stream",
          "name": "stdout",
          "text": [
            "No landmarks detected for /content/drive/MyDrive/deep_learning_project/Dataset/TRAIN/downdog_train/00000232_augmented_2.jpg\n"
          ]
        },
        {
          "output_type": "stream",
          "name": "stderr",
          "text": [
            "\r 24%|██▍       | 307/1285 [00:46<00:57, 17.05it/s]"
          ]
        },
        {
          "output_type": "stream",
          "name": "stdout",
          "text": [
            "No landmarks detected for /content/drive/MyDrive/deep_learning_project/Dataset/TRAIN/downdog_train/00000235_augmented_6.jpg\n"
          ]
        },
        {
          "output_type": "stream",
          "name": "stderr",
          "text": [
            " 25%|██▍       | 315/1285 [00:47<01:02, 15.43it/s]"
          ]
        },
        {
          "output_type": "stream",
          "name": "stdout",
          "text": [
            "No landmarks detected for /content/drive/MyDrive/deep_learning_project/Dataset/TRAIN/downdog_train/00000173_augmented_6.jpg\n"
          ]
        },
        {
          "output_type": "stream",
          "name": "stderr",
          "text": [
            " 25%|██▌       | 325/1285 [00:47<00:59, 16.24it/s]"
          ]
        },
        {
          "output_type": "stream",
          "name": "stdout",
          "text": [
            "No landmarks detected for /content/drive/MyDrive/deep_learning_project/Dataset/TRAIN/downdog_train/00000300_augmented_6.jpg\n"
          ]
        },
        {
          "output_type": "stream",
          "name": "stderr",
          "text": [
            " 26%|██▌       | 333/1285 [00:48<00:59, 16.06it/s]"
          ]
        },
        {
          "output_type": "stream",
          "name": "stdout",
          "text": [
            "No landmarks detected for /content/drive/MyDrive/deep_learning_project/Dataset/TRAIN/downdog_train/00000223_augmented_5.jpg\n"
          ]
        },
        {
          "output_type": "stream",
          "name": "stderr",
          "text": [
            "\r 26%|██▌       | 335/1285 [00:48<00:55, 17.02it/s]"
          ]
        },
        {
          "output_type": "stream",
          "name": "stdout",
          "text": [
            "No landmarks detected for /content/drive/MyDrive/deep_learning_project/Dataset/TRAIN/downdog_train/00000224_augmented_1.jpg\n"
          ]
        },
        {
          "output_type": "stream",
          "name": "stderr",
          "text": [
            " 26%|██▋       | 340/1285 [00:48<01:00, 15.70it/s]"
          ]
        },
        {
          "output_type": "stream",
          "name": "stdout",
          "text": [
            "No landmarks detected for /content/drive/MyDrive/deep_learning_project/Dataset/TRAIN/downdog_train/00000224_augmented_3.jpg\n",
            "No landmarks detected for /content/drive/MyDrive/deep_learning_project/Dataset/TRAIN/downdog_train/00000248_augmented_0.jpg\n"
          ]
        },
        {
          "output_type": "stream",
          "name": "stderr",
          "text": [
            " 27%|██▋       | 348/1285 [00:49<00:58, 16.06it/s]"
          ]
        },
        {
          "output_type": "stream",
          "name": "stdout",
          "text": [
            "No landmarks detected for /content/drive/MyDrive/deep_learning_project/Dataset/TRAIN/downdog_train/00000188.png\n",
            "No landmarks detected for /content/drive/MyDrive/deep_learning_project/Dataset/TRAIN/downdog_train/00000223_augmented_7.jpg\n"
          ]
        },
        {
          "output_type": "stream",
          "name": "stderr",
          "text": [
            " 27%|██▋       | 352/1285 [00:49<00:56, 16.64it/s]"
          ]
        },
        {
          "output_type": "stream",
          "name": "stdout",
          "text": [
            "No landmarks detected for /content/drive/MyDrive/deep_learning_project/Dataset/TRAIN/downdog_train/00000300_augmented_4.jpg\n"
          ]
        },
        {
          "output_type": "stream",
          "name": "stderr",
          "text": [
            " 30%|██▉       | 380/1285 [00:51<01:00, 14.87it/s]"
          ]
        },
        {
          "output_type": "stream",
          "name": "stdout",
          "text": [
            "No landmarks detected for /content/drive/MyDrive/deep_learning_project/Dataset/TRAIN/downdog_train/00000234_augmented_7.jpg\n"
          ]
        },
        {
          "output_type": "stream",
          "name": "stderr",
          "text": [
            " 30%|███       | 387/1285 [00:51<00:54, 16.49it/s]"
          ]
        },
        {
          "output_type": "stream",
          "name": "stdout",
          "text": [
            "No landmarks detected for /content/drive/MyDrive/deep_learning_project/Dataset/TRAIN/downdog_train/00000194_augmented_3.jpg\n"
          ]
        },
        {
          "output_type": "stream",
          "name": "stderr",
          "text": [
            " 31%|███       | 395/1285 [00:52<00:53, 16.64it/s]"
          ]
        },
        {
          "output_type": "stream",
          "name": "stdout",
          "text": [
            "No landmarks detected for /content/drive/MyDrive/deep_learning_project/Dataset/TRAIN/downdog_train/00000163_augmented_0.jpg\n",
            "No landmarks detected for /content/drive/MyDrive/deep_learning_project/Dataset/TRAIN/downdog_train/00000283_augmented_0.jpg\n"
          ]
        },
        {
          "output_type": "stream",
          "name": "stderr",
          "text": [
            " 31%|███▏      | 402/1285 [00:52<00:51, 17.23it/s]"
          ]
        },
        {
          "output_type": "stream",
          "name": "stdout",
          "text": [
            "No landmarks detected for /content/drive/MyDrive/deep_learning_project/Dataset/TRAIN/downdog_train/00000147_augmented_1.jpg\n"
          ]
        },
        {
          "output_type": "stream",
          "name": "stderr",
          "text": [
            " 32%|███▏      | 406/1285 [00:52<00:51, 17.19it/s]"
          ]
        },
        {
          "output_type": "stream",
          "name": "stdout",
          "text": [
            "No landmarks detected for /content/drive/MyDrive/deep_learning_project/Dataset/TRAIN/downdog_train/00000194_augmented_2.jpg\n"
          ]
        },
        {
          "output_type": "stream",
          "name": "stderr",
          "text": [
            " 32%|███▏      | 414/1285 [00:53<00:53, 16.42it/s]"
          ]
        },
        {
          "output_type": "stream",
          "name": "stdout",
          "text": [
            "No landmarks detected for /content/drive/MyDrive/deep_learning_project/Dataset/TRAIN/downdog_train/00000147_augmented_0.jpg\n"
          ]
        },
        {
          "output_type": "stream",
          "name": "stderr",
          "text": [
            " 33%|███▎      | 418/1285 [00:53<01:07, 12.80it/s]"
          ]
        },
        {
          "output_type": "stream",
          "name": "stdout",
          "text": [
            "No landmarks detected for /content/drive/MyDrive/deep_learning_project/Dataset/TRAIN/downdog_train/00000322_augmented_3.jpg\n"
          ]
        },
        {
          "output_type": "stream",
          "name": "stderr",
          "text": [
            "\r 33%|███▎      | 420/1285 [00:54<01:16, 11.25it/s]"
          ]
        },
        {
          "output_type": "stream",
          "name": "stdout",
          "text": [
            "No landmarks detected for /content/drive/MyDrive/deep_learning_project/Dataset/TRAIN/downdog_train/00000135_augmented_6.jpg\n"
          ]
        },
        {
          "output_type": "stream",
          "name": "stderr",
          "text": [
            " 33%|███▎      | 426/1285 [00:54<01:25, 10.08it/s]"
          ]
        },
        {
          "output_type": "stream",
          "name": "stdout",
          "text": [
            "No landmarks detected for /content/drive/MyDrive/deep_learning_project/Dataset/TRAIN/downdog_train/00000234_augmented_6.jpg\n"
          ]
        },
        {
          "output_type": "stream",
          "name": "stderr",
          "text": [
            " 35%|███▍      | 445/1285 [00:56<01:17, 10.87it/s]"
          ]
        },
        {
          "output_type": "stream",
          "name": "stdout",
          "text": [
            "No landmarks detected for /content/drive/MyDrive/deep_learning_project/Dataset/TRAIN/downdog_train/00000304.jpg\n"
          ]
        },
        {
          "output_type": "stream",
          "name": "stderr",
          "text": [
            " 36%|███▌      | 461/1285 [00:58<01:17, 10.61it/s]"
          ]
        },
        {
          "output_type": "stream",
          "name": "stdout",
          "text": [
            "No landmarks detected for /content/drive/MyDrive/deep_learning_project/Dataset/TRAIN/downdog_train/00000322_augmented_1.jpg\n"
          ]
        },
        {
          "output_type": "stream",
          "name": "stderr",
          "text": [
            " 37%|███▋      | 475/1285 [00:59<01:08, 11.91it/s]"
          ]
        },
        {
          "output_type": "stream",
          "name": "stdout",
          "text": [
            "No landmarks detected for /content/drive/MyDrive/deep_learning_project/Dataset/TRAIN/downdog_train/00000147_augmented_2.jpg\n",
            "No landmarks detected for /content/drive/MyDrive/deep_learning_project/Dataset/TRAIN/downdog_train/00000270.jpg\n",
            "No landmarks detected for /content/drive/MyDrive/deep_learning_project/Dataset/TRAIN/downdog_train/00000147_augmented_3.jpg\n"
          ]
        },
        {
          "output_type": "stream",
          "name": "stderr",
          "text": [
            " 38%|███▊      | 486/1285 [01:00<00:50, 15.77it/s]"
          ]
        },
        {
          "output_type": "stream",
          "name": "stdout",
          "text": [
            "No landmarks detected for /content/drive/MyDrive/deep_learning_project/Dataset/TRAIN/downdog_train/00000135_augmented_4.jpg\n",
            "No landmarks detected for /content/drive/MyDrive/deep_learning_project/Dataset/TRAIN/downdog_train/00000234_augmented_1.jpg\n"
          ]
        },
        {
          "output_type": "stream",
          "name": "stderr",
          "text": [
            " 39%|███▊      | 495/1285 [01:00<00:48, 16.45it/s]"
          ]
        },
        {
          "output_type": "stream",
          "name": "stdout",
          "text": [
            "No landmarks detected for /content/drive/MyDrive/deep_learning_project/Dataset/TRAIN/downdog_train/00000194_augmented_5.jpg\n",
            "No landmarks detected for /content/drive/MyDrive/deep_learning_project/Dataset/TRAIN/downdog_train/00000135_augmented_1.jpg\n"
          ]
        },
        {
          "output_type": "stream",
          "name": "stderr",
          "text": [
            " 39%|███▉      | 500/1285 [01:01<00:46, 16.96it/s]"
          ]
        },
        {
          "output_type": "stream",
          "name": "stdout",
          "text": [
            "No landmarks detected for /content/drive/MyDrive/deep_learning_project/Dataset/TRAIN/downdog_train/00000147_augmented_7.jpg\n",
            "No landmarks detected for /content/drive/MyDrive/deep_learning_project/Dataset/TRAIN/downdog_train/00000283_augmented_6.jpg\n"
          ]
        },
        {
          "output_type": "stream",
          "name": "stderr",
          "text": [
            " 40%|████      | 515/1285 [01:02<00:46, 16.53it/s]"
          ]
        },
        {
          "output_type": "stream",
          "name": "stdout",
          "text": [
            "No landmarks detected for /content/drive/MyDrive/deep_learning_project/Dataset/TRAIN/downdog_train/00000322_augmented_5.jpg\n",
            "No landmarks detected for /content/drive/MyDrive/deep_learning_project/Dataset/TRAIN/downdog_train/00000194_augmented_4.jpg\n"
          ]
        },
        {
          "output_type": "stream",
          "name": "stderr",
          "text": [
            " 41%|████      | 525/1285 [01:02<00:40, 18.55it/s]"
          ]
        },
        {
          "output_type": "stream",
          "name": "stdout",
          "text": [
            "No landmarks detected for /content/drive/MyDrive/deep_learning_project/Dataset/TRAIN/downdog_train/00000135_augmented_0.jpg\n",
            "No landmarks detected for /content/drive/MyDrive/deep_learning_project/Dataset/TRAIN/downdog_train/00000147_augmented_6.jpg\n"
          ]
        },
        {
          "output_type": "stream",
          "name": "stderr",
          "text": [
            " 42%|████▏     | 538/1285 [01:03<00:44, 16.93it/s]"
          ]
        },
        {
          "output_type": "stream",
          "name": "stdout",
          "text": [
            "No landmarks detected for /content/drive/MyDrive/deep_learning_project/Dataset/TRAIN/downdog_train/00000246_augmented_6.jpg\n"
          ]
        },
        {
          "output_type": "stream",
          "name": "stderr",
          "text": [
            " 42%|████▏     | 544/1285 [01:03<00:46, 15.79it/s]"
          ]
        },
        {
          "output_type": "stream",
          "name": "stdout",
          "text": [
            "No landmarks detected for /content/drive/MyDrive/deep_learning_project/Dataset/TRAIN/downdog_train/00000234_augmented_0.jpg\n",
            "No landmarks detected for /content/drive/MyDrive/deep_learning_project/Dataset/TRAIN/downdog_train/00000300.jpg\n"
          ]
        },
        {
          "output_type": "stream",
          "name": "stderr",
          "text": [
            " 43%|████▎     | 553/1285 [01:04<00:44, 16.61it/s]"
          ]
        },
        {
          "output_type": "stream",
          "name": "stdout",
          "text": [
            "No landmarks detected for /content/drive/MyDrive/deep_learning_project/Dataset/TRAIN/downdog_train/00000172_augmented_2.jpg\n"
          ]
        },
        {
          "output_type": "stream",
          "name": "stderr",
          "text": [
            " 44%|████▍     | 566/1285 [01:05<00:43, 16.67it/s]"
          ]
        },
        {
          "output_type": "stream",
          "name": "stdout",
          "text": [
            "No landmarks detected for /content/drive/MyDrive/deep_learning_project/Dataset/TRAIN/downdog_train/00000322_augmented_7.jpg\n",
            "No landmarks detected for /content/drive/MyDrive/deep_learning_project/Dataset/TRAIN/downdog_train/00000147_augmented_4.jpg\n"
          ]
        },
        {
          "output_type": "stream",
          "name": "stderr",
          "text": [
            " 45%|████▍     | 575/1285 [01:05<00:42, 16.77it/s]"
          ]
        },
        {
          "output_type": "stream",
          "name": "stdout",
          "text": [
            "No landmarks detected for /content/drive/MyDrive/deep_learning_project/Dataset/TRAIN/downdog_train/00000234_augmented_2.jpg\n"
          ]
        },
        {
          "output_type": "stream",
          "name": "stderr",
          "text": [
            " 45%|████▌     | 581/1285 [01:06<00:44, 15.77it/s]"
          ]
        },
        {
          "output_type": "stream",
          "name": "stdout",
          "text": [
            "No landmarks detected for /content/drive/MyDrive/deep_learning_project/Dataset/TRAIN/downdog_train/00000135_augmented_2.jpg\n"
          ]
        },
        {
          "output_type": "stream",
          "name": "stderr",
          "text": [
            " 46%|████▌     | 593/1285 [01:07<00:45, 15.07it/s]"
          ]
        },
        {
          "output_type": "stream",
          "name": "stdout",
          "text": [
            "No landmarks detected for /content/drive/MyDrive/deep_learning_project/Dataset/TRAIN/downdog_train/00000322_augmented_6.jpg\n"
          ]
        },
        {
          "output_type": "stream",
          "name": "stderr",
          "text": [
            " 47%|████▋     | 598/1285 [01:07<00:42, 16.21it/s]"
          ]
        },
        {
          "output_type": "stream",
          "name": "stdout",
          "text": [
            "No landmarks detected for /content/drive/MyDrive/deep_learning_project/Dataset/TRAIN/downdog_train/00000194_augmented_7.jpg\n",
            "No landmarks detected for /content/drive/MyDrive/deep_learning_project/Dataset/TRAIN/downdog_train/00000147_augmented_5.jpg\n"
          ]
        },
        {
          "output_type": "stream",
          "name": "stderr",
          "text": [
            " 47%|████▋     | 603/1285 [01:07<00:40, 16.95it/s]"
          ]
        },
        {
          "output_type": "stream",
          "name": "stdout",
          "text": [
            "No landmarks detected for /content/drive/MyDrive/deep_learning_project/Dataset/TRAIN/downdog_train/00000283_augmented_4.jpg\n",
            "No landmarks detected for /content/drive/MyDrive/deep_learning_project/Dataset/TRAIN/downdog_train/00000175_augmented_7.jpg\n"
          ]
        },
        {
          "output_type": "stream",
          "name": "stderr",
          "text": [
            "\r 47%|████▋     | 606/1285 [01:07<00:38, 17.55it/s]"
          ]
        },
        {
          "output_type": "stream",
          "name": "stdout",
          "text": [
            "No landmarks detected for /content/drive/MyDrive/deep_learning_project/Dataset/TRAIN/downdog_train/00000135_augmented_3.jpg\n"
          ]
        },
        {
          "output_type": "stream",
          "name": "stderr",
          "text": [
            " 48%|████▊     | 620/1285 [01:08<00:44, 15.10it/s]"
          ]
        },
        {
          "output_type": "stream",
          "name": "stdout",
          "text": [
            "No landmarks detected for /content/drive/MyDrive/deep_learning_project/Dataset/TRAIN/downdog_train/00000239_augmented_5.jpg\n"
          ]
        },
        {
          "output_type": "stream",
          "name": "stderr",
          "text": [
            " 49%|████▊     | 626/1285 [01:09<00:44, 14.67it/s]"
          ]
        },
        {
          "output_type": "stream",
          "name": "stdout",
          "text": [
            "No landmarks detected for /content/drive/MyDrive/deep_learning_project/Dataset/TRAIN/downdog_train/00000154_augmented_6.jpg\n"
          ]
        },
        {
          "output_type": "stream",
          "name": "stderr",
          "text": [
            " 50%|████▉     | 639/1285 [01:09<00:41, 15.51it/s]"
          ]
        },
        {
          "output_type": "stream",
          "name": "stdout",
          "text": [
            "No landmarks detected for /content/drive/MyDrive/deep_learning_project/Dataset/TRAIN/downdog_train/00000320_augmented_2.jpg\n",
            "No landmarks detected for /content/drive/MyDrive/deep_learning_project/Dataset/TRAIN/downdog_train/00000320_augmented_0.jpg\n"
          ]
        },
        {
          "output_type": "stream",
          "name": "stderr",
          "text": [
            "\r 50%|████▉     | 641/1285 [01:10<00:43, 14.88it/s]"
          ]
        },
        {
          "output_type": "stream",
          "name": "stdout",
          "text": [
            "No landmarks detected for /content/drive/MyDrive/deep_learning_project/Dataset/TRAIN/downdog_train/00000304_augmented_1.jpg\n"
          ]
        },
        {
          "output_type": "stream",
          "name": "stderr",
          "text": [
            " 51%|█████     | 649/1285 [01:10<00:56, 11.23it/s]"
          ]
        },
        {
          "output_type": "stream",
          "name": "stdout",
          "text": [
            "No landmarks detected for /content/drive/MyDrive/deep_learning_project/Dataset/TRAIN/downdog_train/00000220_augmented_4.jpg\n",
            "No landmarks detected for /content/drive/MyDrive/deep_learning_project/Dataset/TRAIN/downdog_train/00000304_augmented_3.jpg\n"
          ]
        },
        {
          "output_type": "stream",
          "name": "stderr",
          "text": [
            " 51%|█████     | 656/1285 [01:11<01:21,  7.74it/s]"
          ]
        },
        {
          "output_type": "stream",
          "name": "stdout",
          "text": [
            "No landmarks detected for /content/drive/MyDrive/deep_learning_project/Dataset/TRAIN/downdog_train/00000286_augmented_6.jpg\n"
          ]
        },
        {
          "output_type": "stream",
          "name": "stderr",
          "text": [
            " 51%|█████▏    | 661/1285 [01:12<01:41,  6.15it/s]"
          ]
        },
        {
          "output_type": "stream",
          "name": "stdout",
          "text": [
            "No landmarks detected for /content/drive/MyDrive/deep_learning_project/Dataset/TRAIN/downdog_train/00000220_augmented_6.jpg\n"
          ]
        },
        {
          "output_type": "stream",
          "name": "stderr",
          "text": [
            " 52%|█████▏    | 674/1285 [01:14<01:01,  9.91it/s]"
          ]
        },
        {
          "output_type": "stream",
          "name": "stdout",
          "text": [
            "No landmarks detected for /content/drive/MyDrive/deep_learning_project/Dataset/TRAIN/downdog_train/00000315_augmented_6.jpg\n"
          ]
        },
        {
          "output_type": "stream",
          "name": "stderr",
          "text": [
            " 53%|█████▎    | 678/1285 [01:14<00:56, 10.81it/s]"
          ]
        },
        {
          "output_type": "stream",
          "name": "stdout",
          "text": [
            "No landmarks detected for /content/drive/MyDrive/deep_learning_project/Dataset/TRAIN/downdog_train/00000315_augmented_7.jpg\n"
          ]
        },
        {
          "output_type": "stream",
          "name": "stderr",
          "text": [
            " 54%|█████▍    | 691/1285 [01:16<00:57, 10.34it/s]"
          ]
        },
        {
          "output_type": "stream",
          "name": "stdout",
          "text": [
            "No landmarks detected for /content/drive/MyDrive/deep_learning_project/Dataset/TRAIN/downdog_train/00000239_augmented_7.jpg\n"
          ]
        },
        {
          "output_type": "stream",
          "name": "stderr",
          "text": [
            " 55%|█████▍    | 706/1285 [01:17<00:37, 15.50it/s]"
          ]
        },
        {
          "output_type": "stream",
          "name": "stdout",
          "text": [
            "No landmarks detected for /content/drive/MyDrive/deep_learning_project/Dataset/TRAIN/downdog_train/00000286_augmented_7.jpg\n",
            "No landmarks detected for /content/drive/MyDrive/deep_learning_project/Dataset/TRAIN/downdog_train/00000138_augmented_6.jpg\n"
          ]
        },
        {
          "output_type": "stream",
          "name": "stderr",
          "text": [
            " 55%|█████▌    | 710/1285 [01:17<00:35, 16.20it/s]"
          ]
        },
        {
          "output_type": "stream",
          "name": "stdout",
          "text": [
            "No landmarks detected for /content/drive/MyDrive/deep_learning_project/Dataset/TRAIN/downdog_train/00000177_augmented_0.jpg\n"
          ]
        },
        {
          "output_type": "stream",
          "name": "stderr",
          "text": [
            " 56%|█████▌    | 716/1285 [01:17<00:35, 16.16it/s]"
          ]
        },
        {
          "output_type": "stream",
          "name": "stdout",
          "text": [
            "No landmarks detected for /content/drive/MyDrive/deep_learning_project/Dataset/TRAIN/downdog_train/00000239_augmented_6.jpg\n",
            "No landmarks detected for /content/drive/MyDrive/deep_learning_project/Dataset/TRAIN/downdog_train/00000304_augmented_0.jpg\n",
            "No landmarks detected for /content/drive/MyDrive/deep_learning_project/Dataset/TRAIN/downdog_train/00000220_augmented_7.jpg\n"
          ]
        },
        {
          "output_type": "stream",
          "name": "stderr",
          "text": [
            " 56%|█████▌    | 721/1285 [01:17<00:32, 17.38it/s]"
          ]
        },
        {
          "output_type": "stream",
          "name": "stdout",
          "text": [
            "No landmarks detected for /content/drive/MyDrive/deep_learning_project/Dataset/TRAIN/downdog_train/00000281_augmented_3.jpg\n"
          ]
        },
        {
          "output_type": "stream",
          "name": "stderr",
          "text": [
            " 56%|█████▋    | 726/1285 [01:18<00:32, 17.28it/s]"
          ]
        },
        {
          "output_type": "stream",
          "name": "stdout",
          "text": [
            "No landmarks detected for /content/drive/MyDrive/deep_learning_project/Dataset/TRAIN/downdog_train/00000276_augmented_0.jpg\n"
          ]
        },
        {
          "output_type": "stream",
          "name": "stderr",
          "text": [
            " 58%|█████▊    | 745/1285 [01:19<00:34, 15.87it/s]"
          ]
        },
        {
          "output_type": "stream",
          "name": "stdout",
          "text": [
            "No landmarks detected for /content/drive/MyDrive/deep_learning_project/Dataset/TRAIN/downdog_train/00000315.jpg\n"
          ]
        },
        {
          "output_type": "stream",
          "name": "stderr",
          "text": [
            " 59%|█████▊    | 754/1285 [01:20<00:36, 14.73it/s]"
          ]
        },
        {
          "output_type": "stream",
          "name": "stdout",
          "text": [
            "No landmarks detected for /content/drive/MyDrive/deep_learning_project/Dataset/TRAIN/downdog_train/00000304_augmented_6.jpg\n",
            "No landmarks detected for /content/drive/MyDrive/deep_learning_project/Dataset/TRAIN/downdog_train/00000220_augmented_1.jpg\n"
          ]
        },
        {
          "output_type": "stream",
          "name": "stderr",
          "text": [
            " 60%|█████▉    | 765/1285 [01:20<00:33, 15.62it/s]"
          ]
        },
        {
          "output_type": "stream",
          "name": "stdout",
          "text": [
            "No landmarks detected for /content/drive/MyDrive/deep_learning_project/Dataset/TRAIN/downdog_train/00000304_augmented_2.jpg\n",
            "No landmarks detected for /content/drive/MyDrive/deep_learning_project/Dataset/TRAIN/downdog_train/00000220_augmented_5.jpg\n",
            "No landmarks detected for /content/drive/MyDrive/deep_learning_project/Dataset/TRAIN/downdog_train/00000239_augmented_4.jpg\n"
          ]
        },
        {
          "output_type": "stream",
          "name": "stderr",
          "text": [
            " 60%|██████    | 774/1285 [01:21<00:30, 16.70it/s]"
          ]
        },
        {
          "output_type": "stream",
          "name": "stdout",
          "text": [
            "No landmarks detected for /content/drive/MyDrive/deep_learning_project/Dataset/TRAIN/downdog_train/00000281_augmented_1.jpg\n",
            "No landmarks detected for /content/drive/MyDrive/deep_learning_project/Dataset/TRAIN/downdog_train/00000255_augmented_7.jpg\n"
          ]
        },
        {
          "output_type": "stream",
          "name": "stderr",
          "text": [
            " 61%|██████    | 784/1285 [01:22<00:32, 15.54it/s]"
          ]
        },
        {
          "output_type": "stream",
          "name": "stdout",
          "text": [
            "No landmarks detected for /content/drive/MyDrive/deep_learning_project/Dataset/TRAIN/downdog_train/00000320_augmented_3.jpg\n"
          ]
        },
        {
          "output_type": "stream",
          "name": "stderr",
          "text": [
            " 61%|██████▏   | 789/1285 [01:22<00:30, 16.52it/s]"
          ]
        },
        {
          "output_type": "stream",
          "name": "stdout",
          "text": [
            "No landmarks detected for /content/drive/MyDrive/deep_learning_project/Dataset/TRAIN/downdog_train/00000177_augmented_2.jpg\n",
            "No landmarks detected for /content/drive/MyDrive/deep_learning_project/Dataset/TRAIN/downdog_train/00000154_augmented_7.jpg\n"
          ]
        },
        {
          "output_type": "stream",
          "name": "stderr",
          "text": [
            " 62%|██████▏   | 800/1285 [01:23<00:30, 15.97it/s]"
          ]
        },
        {
          "output_type": "stream",
          "name": "stdout",
          "text": [
            "No landmarks detected for /content/drive/MyDrive/deep_learning_project/Dataset/TRAIN/downdog_train/00000315_augmented_5.jpg\n"
          ]
        },
        {
          "output_type": "stream",
          "name": "stderr",
          "text": [
            " 63%|██████▎   | 815/1285 [01:24<00:26, 17.86it/s]"
          ]
        },
        {
          "output_type": "stream",
          "name": "stdout",
          "text": [
            "No landmarks detected for /content/drive/MyDrive/deep_learning_project/Dataset/TRAIN/downdog_train/00000315_augmented_4.jpg\n",
            "No landmarks detected for /content/drive/MyDrive/deep_learning_project/Dataset/TRAIN/downdog_train/00000177_augmented_3.jpg\n"
          ]
        },
        {
          "output_type": "stream",
          "name": "stderr",
          "text": [
            " 64%|██████▍   | 821/1285 [01:24<00:29, 15.71it/s]"
          ]
        },
        {
          "output_type": "stream",
          "name": "stdout",
          "text": [
            "No landmarks detected for /content/drive/MyDrive/deep_learning_project/Dataset/TRAIN/downdog_train/00000281_augmented_4.jpg\n",
            "No landmarks detected for /content/drive/MyDrive/deep_learning_project/Dataset/TRAIN/downdog_train/00000315_augmented_1.jpg\n"
          ]
        },
        {
          "output_type": "stream",
          "name": "stderr",
          "text": [
            " 65%|██████▌   | 837/1285 [01:25<00:27, 16.33it/s]"
          ]
        },
        {
          "output_type": "stream",
          "name": "stdout",
          "text": [
            "No landmarks detected for /content/drive/MyDrive/deep_learning_project/Dataset/TRAIN/downdog_train/00000281_augmented_5.jpg\n"
          ]
        },
        {
          "output_type": "stream",
          "name": "stderr",
          "text": [
            " 66%|██████▌   | 844/1285 [01:25<00:25, 17.63it/s]"
          ]
        },
        {
          "output_type": "stream",
          "name": "stdout",
          "text": [
            "No landmarks detected for /content/drive/MyDrive/deep_learning_project/Dataset/TRAIN/downdog_train/00000281.jpg\n",
            "No landmarks detected for /content/drive/MyDrive/deep_learning_project/Dataset/TRAIN/downdog_train/00000315_augmented_0.jpg\n"
          ]
        },
        {
          "output_type": "stream",
          "name": "stderr",
          "text": [
            " 68%|██████▊   | 876/1285 [01:28<00:37, 10.81it/s]"
          ]
        },
        {
          "output_type": "stream",
          "name": "stdout",
          "text": [
            "No landmarks detected for /content/drive/MyDrive/deep_learning_project/Dataset/TRAIN/downdog_train/00000322.jpg\n"
          ]
        },
        {
          "output_type": "stream",
          "name": "stderr",
          "text": [
            " 68%|██████▊   | 880/1285 [01:29<00:37, 10.92it/s]"
          ]
        },
        {
          "output_type": "stream",
          "name": "stdout",
          "text": [
            "No landmarks detected for /content/drive/MyDrive/deep_learning_project/Dataset/TRAIN/downdog_train/00000239_augmented_0.jpg\n"
          ]
        },
        {
          "output_type": "stream",
          "name": "stderr",
          "text": [
            " 69%|██████▉   | 890/1285 [01:30<00:36, 10.87it/s]"
          ]
        },
        {
          "output_type": "stream",
          "name": "stdout",
          "text": [
            "No landmarks detected for /content/drive/MyDrive/deep_learning_project/Dataset/TRAIN/downdog_train/00000315_augmented_2.jpg\n"
          ]
        },
        {
          "output_type": "stream",
          "name": "stderr",
          "text": [
            " 71%|███████▏  | 916/1285 [01:32<00:23, 15.78it/s]"
          ]
        },
        {
          "output_type": "stream",
          "name": "stdout",
          "text": [
            "No landmarks detected for /content/drive/MyDrive/deep_learning_project/Dataset/TRAIN/downdog_train/00000281_augmented_6.jpg\n",
            "No landmarks detected for /content/drive/MyDrive/deep_learning_project/Dataset/TRAIN/downdog_train/00000220_augmented_2.jpg\n"
          ]
        },
        {
          "output_type": "stream",
          "name": "stderr",
          "text": [
            " 72%|███████▏  | 924/1285 [01:32<00:26, 13.73it/s]"
          ]
        },
        {
          "output_type": "stream",
          "name": "stdout",
          "text": [
            "No landmarks detected for /content/drive/MyDrive/deep_learning_project/Dataset/TRAIN/downdog_train/00000239_augmented_3.jpg\n",
            "No landmarks detected for /content/drive/MyDrive/deep_learning_project/Dataset/TRAIN/downdog_train/00000320_augmented_6.jpg\n"
          ]
        },
        {
          "output_type": "stream",
          "name": "stderr",
          "text": [
            " 73%|███████▎  | 936/1285 [01:33<00:19, 18.31it/s]"
          ]
        },
        {
          "output_type": "stream",
          "name": "stdout",
          "text": [
            "No landmarks detected for /content/drive/MyDrive/deep_learning_project/Dataset/TRAIN/downdog_train/00000239_augmented_1.jpg\n",
            "No landmarks detected for /content/drive/MyDrive/deep_learning_project/Dataset/TRAIN/downdog_train/00000304_augmented_5.jpg\n",
            "No landmarks detected for /content/drive/MyDrive/deep_learning_project/Dataset/TRAIN/downdog_train/00000304_augmented_7.jpg\n"
          ]
        },
        {
          "output_type": "stream",
          "name": "stderr",
          "text": [
            " 73%|███████▎  | 942/1285 [01:34<00:21, 16.30it/s]"
          ]
        },
        {
          "output_type": "stream",
          "name": "stdout",
          "text": [
            "No landmarks detected for /content/drive/MyDrive/deep_learning_project/Dataset/TRAIN/downdog_train/00000220_augmented_0.jpg\n"
          ]
        },
        {
          "output_type": "stream",
          "name": "stderr",
          "text": [
            " 74%|███████▍  | 956/1285 [01:34<00:21, 15.14it/s]"
          ]
        },
        {
          "output_type": "stream",
          "name": "stdout",
          "text": [
            "No landmarks detected for /content/drive/MyDrive/deep_learning_project/Dataset/TRAIN/downdog_train/00000320.jpg\n",
            "No landmarks detected for /content/drive/MyDrive/deep_learning_project/Dataset/TRAIN/downdog_train/00000168_augmented_3.jpg\n"
          ]
        },
        {
          "output_type": "stream",
          "name": "stderr",
          "text": [
            " 76%|███████▌  | 974/1285 [01:36<00:18, 16.67it/s]"
          ]
        },
        {
          "output_type": "stream",
          "name": "stdout",
          "text": [
            "No landmarks detected for /content/drive/MyDrive/deep_learning_project/Dataset/TRAIN/downdog_train/00000239_augmented_2.jpg\n",
            "No landmarks detected for /content/drive/MyDrive/deep_learning_project/Dataset/TRAIN/downdog_train/00000220_augmented_3.jpg\n"
          ]
        },
        {
          "output_type": "stream",
          "name": "stderr",
          "text": [
            " 77%|███████▋  | 986/1285 [01:36<00:20, 14.52it/s]"
          ]
        },
        {
          "output_type": "stream",
          "name": "stdout",
          "text": [
            "No landmarks detected for /content/drive/MyDrive/deep_learning_project/Dataset/TRAIN/downdog_train/00000320_augmented_5.jpg\n",
            "No landmarks detected for /content/drive/MyDrive/deep_learning_project/Dataset/TRAIN/downdog_train/00000286_augmented_3.jpg\n"
          ]
        },
        {
          "output_type": "stream",
          "name": "stderr",
          "text": [
            "\r 77%|███████▋  | 989/1285 [01:37<00:18, 16.09it/s]"
          ]
        },
        {
          "output_type": "stream",
          "name": "stdout",
          "text": [
            "No landmarks detected for /content/drive/MyDrive/deep_learning_project/Dataset/TRAIN/downdog_train/00000281_augmented_7.jpg\n",
            "No landmarks detected for /content/drive/MyDrive/deep_learning_project/Dataset/TRAIN/downdog_train/00000315_augmented_3.jpg\n"
          ]
        },
        {
          "output_type": "stream",
          "name": "stderr",
          "text": [
            " 80%|███████▉  | 1024/1285 [01:39<00:16, 15.54it/s]"
          ]
        },
        {
          "output_type": "stream",
          "name": "stdout",
          "text": [
            "No landmarks detected for /content/drive/MyDrive/deep_learning_project/Dataset/TRAIN/downdog_train/00000168_augmented_2.jpg\n"
          ]
        },
        {
          "output_type": "stream",
          "name": "stderr",
          "text": [
            " 81%|████████  | 1041/1285 [01:40<00:14, 16.58it/s]"
          ]
        },
        {
          "output_type": "stream",
          "name": "stdout",
          "text": [
            "No landmarks detected for /content/drive/MyDrive/deep_learning_project/Dataset/TRAIN/downdog_train/00000270_augmented_3.jpg\n",
            "No landmarks detected for /content/drive/MyDrive/deep_learning_project/Dataset/TRAIN/downdog_train/00000221_augmented_0.jpg\n"
          ]
        },
        {
          "output_type": "stream",
          "name": "stderr",
          "text": [
            " 82%|████████▏ | 1051/1285 [01:41<00:15, 15.13it/s]"
          ]
        },
        {
          "output_type": "stream",
          "name": "stdout",
          "text": [
            "No landmarks detected for /content/drive/MyDrive/deep_learning_project/Dataset/TRAIN/downdog_train/00000160_augmented_4.jpg\n"
          ]
        },
        {
          "output_type": "stream",
          "name": "stderr",
          "text": [
            " 82%|████████▏ | 1055/1285 [01:41<00:17, 13.28it/s]"
          ]
        },
        {
          "output_type": "stream",
          "name": "stdout",
          "text": [
            "No landmarks detected for /content/drive/MyDrive/deep_learning_project/Dataset/TRAIN/downdog_train/00000232.jpg\n"
          ]
        },
        {
          "output_type": "stream",
          "name": "stderr",
          "text": [
            "\r 82%|████████▏ | 1057/1285 [01:41<00:17, 13.36it/s]"
          ]
        },
        {
          "output_type": "stream",
          "name": "stdout",
          "text": [
            "No landmarks detected for /content/drive/MyDrive/deep_learning_project/Dataset/TRAIN/downdog_train/00000270_augmented_2.jpg\n"
          ]
        },
        {
          "output_type": "stream",
          "name": "stderr",
          "text": [
            " 83%|████████▎ | 1063/1285 [01:42<00:21, 10.48it/s]"
          ]
        },
        {
          "output_type": "stream",
          "name": "stdout",
          "text": [
            "No landmarks detected for /content/drive/MyDrive/deep_learning_project/Dataset/TRAIN/downdog_train/00000221_augmented_1.jpg\n"
          ]
        },
        {
          "output_type": "stream",
          "name": "stderr",
          "text": [
            " 85%|████████▍ | 1088/1285 [01:45<00:18, 10.76it/s]"
          ]
        },
        {
          "output_type": "stream",
          "name": "stdout",
          "text": [
            "No landmarks detected for /content/drive/MyDrive/deep_learning_project/Dataset/TRAIN/downdog_train/00000179_augmented_6.jpg\n",
            "No landmarks detected for /content/drive/MyDrive/deep_learning_project/Dataset/TRAIN/downdog_train/00000147.jpg\n"
          ]
        },
        {
          "output_type": "stream",
          "name": "stderr",
          "text": [
            " 85%|████████▍ | 1092/1285 [01:45<00:21,  9.02it/s]"
          ]
        },
        {
          "output_type": "stream",
          "name": "stdout",
          "text": [
            "No landmarks detected for /content/drive/MyDrive/deep_learning_project/Dataset/TRAIN/downdog_train/00000221_augmented_3.jpg\n"
          ]
        },
        {
          "output_type": "stream",
          "name": "stderr",
          "text": [
            " 86%|████████▌ | 1099/1285 [01:46<00:16, 11.38it/s]"
          ]
        },
        {
          "output_type": "stream",
          "name": "stdout",
          "text": [
            "No landmarks detected for /content/drive/MyDrive/deep_learning_project/Dataset/TRAIN/downdog_train/00000168_augmented_1.jpg\n"
          ]
        },
        {
          "output_type": "stream",
          "name": "stderr",
          "text": [
            " 86%|████████▌ | 1106/1285 [01:46<00:12, 14.73it/s]"
          ]
        },
        {
          "output_type": "stream",
          "name": "stdout",
          "text": [
            "No landmarks detected for /content/drive/MyDrive/deep_learning_project/Dataset/TRAIN/downdog_train/00000270_augmented_1.jpg\n"
          ]
        },
        {
          "output_type": "stream",
          "name": "stderr",
          "text": [
            " 86%|████████▋ | 1110/1285 [01:46<00:11, 15.69it/s]"
          ]
        },
        {
          "output_type": "stream",
          "name": "stdout",
          "text": [
            "No landmarks detected for /content/drive/MyDrive/deep_learning_project/Dataset/TRAIN/downdog_train/00000224.jpg\n"
          ]
        },
        {
          "output_type": "stream",
          "name": "stderr",
          "text": [
            " 87%|████████▋ | 1117/1285 [01:47<00:12, 13.52it/s]"
          ]
        },
        {
          "output_type": "stream",
          "name": "stdout",
          "text": [
            "No landmarks detected for /content/drive/MyDrive/deep_learning_project/Dataset/TRAIN/downdog_train/00000270_augmented_0.jpg\n"
          ]
        },
        {
          "output_type": "stream",
          "name": "stderr",
          "text": [
            " 88%|████████▊ | 1125/1285 [01:48<00:11, 14.45it/s]"
          ]
        },
        {
          "output_type": "stream",
          "name": "stdout",
          "text": [
            "No landmarks detected for /content/drive/MyDrive/deep_learning_project/Dataset/TRAIN/downdog_train/00000144_augmented_7.jpg\n"
          ]
        },
        {
          "output_type": "stream",
          "name": "stderr",
          "text": [
            " 88%|████████▊ | 1129/1285 [01:48<00:10, 15.11it/s]"
          ]
        },
        {
          "output_type": "stream",
          "name": "stdout",
          "text": [
            "No landmarks detected for /content/drive/MyDrive/deep_learning_project/Dataset/TRAIN/downdog_train/00000221_augmented_2.jpg\n"
          ]
        },
        {
          "output_type": "stream",
          "name": "stderr",
          "text": [
            " 88%|████████▊ | 1133/1285 [01:48<00:09, 15.85it/s]"
          ]
        },
        {
          "output_type": "stream",
          "name": "stdout",
          "text": [
            "No landmarks detected for /content/drive/MyDrive/deep_learning_project/Dataset/TRAIN/downdog_train/00000168_augmented_0.jpg\n"
          ]
        },
        {
          "output_type": "stream",
          "name": "stderr",
          "text": [
            " 88%|████████▊ | 1137/1285 [01:48<00:09, 15.19it/s]"
          ]
        },
        {
          "output_type": "stream",
          "name": "stdout",
          "text": [
            "No landmarks detected for /content/drive/MyDrive/deep_learning_project/Dataset/TRAIN/downdog_train/00000221_augmented_5.jpg\n"
          ]
        },
        {
          "output_type": "stream",
          "name": "stderr",
          "text": [
            " 89%|████████▉ | 1149/1285 [01:49<00:09, 14.24it/s]"
          ]
        },
        {
          "output_type": "stream",
          "name": "stdout",
          "text": [
            "No landmarks detected for /content/drive/MyDrive/deep_learning_project/Dataset/TRAIN/downdog_train/00000270_augmented_6.jpg\n"
          ]
        },
        {
          "output_type": "stream",
          "name": "stderr",
          "text": [
            " 91%|█████████ | 1164/1285 [01:50<00:07, 16.73it/s]"
          ]
        },
        {
          "output_type": "stream",
          "name": "stdout",
          "text": [
            "No landmarks detected for /content/drive/MyDrive/deep_learning_project/Dataset/TRAIN/downdog_train/00000270_augmented_7.jpg\n",
            "No landmarks detected for /content/drive/MyDrive/deep_learning_project/Dataset/TRAIN/downdog_train/00000168_augmented_6.jpg\n"
          ]
        },
        {
          "output_type": "stream",
          "name": "stderr",
          "text": [
            " 91%|█████████▏| 1174/1285 [01:51<00:07, 14.85it/s]"
          ]
        },
        {
          "output_type": "stream",
          "name": "stdout",
          "text": [
            "No landmarks detected for /content/drive/MyDrive/deep_learning_project/Dataset/TRAIN/downdog_train/00000179_augmented_1.jpg\n"
          ]
        },
        {
          "output_type": "stream",
          "name": "stderr",
          "text": [
            " 93%|█████████▎| 1189/1285 [01:52<00:06, 15.51it/s]"
          ]
        },
        {
          "output_type": "stream",
          "name": "stdout",
          "text": [
            "No landmarks detected for /content/drive/MyDrive/deep_learning_project/Dataset/TRAIN/downdog_train/00000168.jpg\n"
          ]
        },
        {
          "output_type": "stream",
          "name": "stderr",
          "text": [
            " 94%|█████████▍| 1213/1285 [01:53<00:05, 13.55it/s]"
          ]
        },
        {
          "output_type": "stream",
          "name": "stdout",
          "text": [
            "No landmarks detected for /content/drive/MyDrive/deep_learning_project/Dataset/TRAIN/downdog_train/00000221_augmented_6.jpg\n"
          ]
        },
        {
          "output_type": "stream",
          "name": "stderr",
          "text": [
            " 95%|█████████▍| 1220/1285 [01:54<00:04, 14.87it/s]"
          ]
        },
        {
          "output_type": "stream",
          "name": "stdout",
          "text": [
            "No landmarks detected for /content/drive/MyDrive/deep_learning_project/Dataset/TRAIN/downdog_train/00000168_augmented_4.jpg\n"
          ]
        },
        {
          "output_type": "stream",
          "name": "stderr",
          "text": [
            " 96%|█████████▌| 1228/1285 [01:54<00:03, 15.82it/s]"
          ]
        },
        {
          "output_type": "stream",
          "name": "stdout",
          "text": [
            "No landmarks detected for /content/drive/MyDrive/deep_learning_project/Dataset/TRAIN/downdog_train/00000220.jpg\n"
          ]
        },
        {
          "output_type": "stream",
          "name": "stderr",
          "text": [
            " 96%|█████████▌| 1235/1285 [01:55<00:03, 16.13it/s]"
          ]
        },
        {
          "output_type": "stream",
          "name": "stdout",
          "text": [
            "No landmarks detected for /content/drive/MyDrive/deep_learning_project/Dataset/TRAIN/downdog_train/00000270_augmented_5.jpg\n"
          ]
        },
        {
          "output_type": "stream",
          "name": "stderr",
          "text": [
            " 96%|█████████▋| 1239/1285 [01:55<00:02, 15.66it/s]"
          ]
        },
        {
          "output_type": "stream",
          "name": "stdout",
          "text": [
            "No landmarks detected for /content/drive/MyDrive/deep_learning_project/Dataset/TRAIN/downdog_train/00000221.jpg\n"
          ]
        },
        {
          "output_type": "stream",
          "name": "stderr",
          "text": [
            " 97%|█████████▋| 1245/1285 [01:56<00:02, 16.39it/s]"
          ]
        },
        {
          "output_type": "stream",
          "name": "stdout",
          "text": [
            "No landmarks detected for /content/drive/MyDrive/deep_learning_project/Dataset/TRAIN/downdog_train/00000270_augmented_4.jpg\n"
          ]
        },
        {
          "output_type": "stream",
          "name": "stderr",
          "text": [
            " 97%|█████████▋| 1249/1285 [01:56<00:02, 13.22it/s]"
          ]
        },
        {
          "output_type": "stream",
          "name": "stdout",
          "text": [
            "No landmarks detected for /content/drive/MyDrive/deep_learning_project/Dataset/TRAIN/downdog_train/00000221_augmented_7.jpg\n"
          ]
        },
        {
          "output_type": "stream",
          "name": "stderr",
          "text": [
            " 98%|█████████▊| 1253/1285 [01:56<00:02, 11.71it/s]"
          ]
        },
        {
          "output_type": "stream",
          "name": "stdout",
          "text": [
            "No landmarks detected for /content/drive/MyDrive/deep_learning_project/Dataset/TRAIN/downdog_train/00000235.jpg\n"
          ]
        },
        {
          "output_type": "stream",
          "name": "stderr",
          "text": [
            " 98%|█████████▊| 1259/1285 [01:57<00:02, 11.07it/s]"
          ]
        },
        {
          "output_type": "stream",
          "name": "stdout",
          "text": [
            "No landmarks detected for /content/drive/MyDrive/deep_learning_project/Dataset/TRAIN/downdog_train/00000168_augmented_5.jpg\n"
          ]
        },
        {
          "output_type": "stream",
          "name": "stderr",
          "text": [
            "100%|█████████▉| 1281/1285 [01:59<00:00,  9.63it/s]"
          ]
        },
        {
          "output_type": "stream",
          "name": "stdout",
          "text": [
            "No landmarks detected for /content/drive/MyDrive/deep_learning_project/Dataset/TRAIN/downdog_train/00000168_augmented_7.jpg\n"
          ]
        },
        {
          "output_type": "stream",
          "name": "stderr",
          "text": [
            "100%|██████████| 1285/1285 [02:00<00:00, 10.69it/s]\n"
          ]
        },
        {
          "output_type": "stream",
          "name": "stdout",
          "text": [
            "Processing 'goddess_train' with label 1\n"
          ]
        },
        {
          "output_type": "stream",
          "name": "stderr",
          "text": [
            "  2%|▏         | 20/1130 [01:02<34:41,  1.88s/it]"
          ]
        },
        {
          "output_type": "stream",
          "name": "stdout",
          "text": [
            "No landmarks detected for /content/drive/MyDrive/deep_learning_project/Dataset/TRAIN/goddess_train/00000316_augmented_1.jpg\n"
          ]
        },
        {
          "output_type": "stream",
          "name": "stderr",
          "text": [
            "  3%|▎         | 37/1130 [01:03<02:24,  7.55it/s]"
          ]
        },
        {
          "output_type": "stream",
          "name": "stdout",
          "text": [
            "No landmarks detected for /content/drive/MyDrive/deep_learning_project/Dataset/TRAIN/goddess_train/00000149_augmented_7.jpg\n",
            "No landmarks detected for /content/drive/MyDrive/deep_learning_project/Dataset/TRAIN/goddess_train/00000146_augmented_5.jpg\n"
          ]
        },
        {
          "output_type": "stream",
          "name": "stderr",
          "text": [
            "  4%|▍         | 47/1130 [01:03<01:22, 13.20it/s]"
          ]
        },
        {
          "output_type": "stream",
          "name": "stdout",
          "text": [
            "No landmarks detected for /content/drive/MyDrive/deep_learning_project/Dataset/TRAIN/goddess_train/00000165_augmented_0.jpg\n",
            "No landmarks detected for /content/drive/MyDrive/deep_learning_project/Dataset/TRAIN/goddess_train/00000149_augmented_6.jpg\n"
          ]
        },
        {
          "output_type": "stream",
          "name": "stderr",
          "text": [
            "  5%|▌         | 57/1130 [01:04<01:13, 14.57it/s]"
          ]
        },
        {
          "output_type": "stream",
          "name": "stdout",
          "text": [
            "No landmarks detected for /content/drive/MyDrive/deep_learning_project/Dataset/TRAIN/goddess_train/00000117_augmented_6.jpg\n",
            "No landmarks detected for /content/drive/MyDrive/deep_learning_project/Dataset/TRAIN/goddess_train/00000110_augmented_2.jpg\n"
          ]
        },
        {
          "output_type": "stream",
          "name": "stderr",
          "text": [
            "  5%|▌         | 61/1130 [01:04<01:20, 13.28it/s]"
          ]
        },
        {
          "output_type": "stream",
          "name": "stdout",
          "text": [
            "No landmarks detected for /content/drive/MyDrive/deep_learning_project/Dataset/TRAIN/goddess_train/00000149_augmented_4.jpg\n"
          ]
        },
        {
          "output_type": "stream",
          "name": "stderr",
          "text": [
            "  7%|▋         | 80/1130 [01:07<01:53,  9.29it/s]"
          ]
        },
        {
          "output_type": "stream",
          "name": "stdout",
          "text": [
            "No landmarks detected for /content/drive/MyDrive/deep_learning_project/Dataset/TRAIN/goddess_train/00000165.jpg\n",
            "No landmarks detected for /content/drive/MyDrive/deep_learning_project/Dataset/TRAIN/goddess_train/00000165_augmented_3.jpg\n"
          ]
        },
        {
          "output_type": "stream",
          "name": "stderr",
          "text": [
            "  7%|▋         | 84/1130 [01:07<01:43, 10.07it/s]"
          ]
        },
        {
          "output_type": "stream",
          "name": "stdout",
          "text": [
            "No landmarks detected for /content/drive/MyDrive/deep_learning_project/Dataset/TRAIN/goddess_train/00000110_augmented_3.jpg\n"
          ]
        },
        {
          "output_type": "stream",
          "name": "stderr",
          "text": [
            "  9%|▉         | 100/1130 [01:09<01:42, 10.09it/s]"
          ]
        },
        {
          "output_type": "stream",
          "name": "stdout",
          "text": [
            "No landmarks detected for /content/drive/MyDrive/deep_learning_project/Dataset/TRAIN/goddess_train/00000165_augmented_1.jpg\n"
          ]
        },
        {
          "output_type": "stream",
          "name": "stderr",
          "text": [
            " 11%|█         | 119/1130 [01:10<01:16, 13.16it/s]"
          ]
        },
        {
          "output_type": "stream",
          "name": "stdout",
          "text": [
            "No landmarks detected for /content/drive/MyDrive/deep_learning_project/Dataset/TRAIN/goddess_train/00000149_augmented_1.jpg\n"
          ]
        },
        {
          "output_type": "stream",
          "name": "stderr",
          "text": [
            " 12%|█▏        | 131/1130 [01:11<01:15, 13.19it/s]"
          ]
        },
        {
          "output_type": "stream",
          "name": "stdout",
          "text": [
            "No landmarks detected for /content/drive/MyDrive/deep_learning_project/Dataset/TRAIN/goddess_train/00000165_augmented_6.jpg\n"
          ]
        },
        {
          "output_type": "stream",
          "name": "stderr",
          "text": [
            " 12%|█▏        | 141/1130 [01:12<01:18, 12.60it/s]"
          ]
        },
        {
          "output_type": "stream",
          "name": "stdout",
          "text": [
            "No landmarks detected for /content/drive/MyDrive/deep_learning_project/Dataset/TRAIN/goddess_train/00000149_augmented_0.jpg\n"
          ]
        },
        {
          "output_type": "stream",
          "name": "stderr",
          "text": [
            " 13%|█▎        | 147/1130 [01:13<01:13, 13.37it/s]"
          ]
        },
        {
          "output_type": "stream",
          "name": "stdout",
          "text": [
            "No landmarks detected for /content/drive/MyDrive/deep_learning_project/Dataset/TRAIN/goddess_train/00000110_augmented_4.jpg\n",
            "No landmarks detected for /content/drive/MyDrive/deep_learning_project/Dataset/TRAIN/goddess_train/00000146_augmented_3.jpg\n"
          ]
        },
        {
          "output_type": "stream",
          "name": "stderr",
          "text": [
            " 15%|█▍        | 167/1130 [01:14<01:28, 10.92it/s]"
          ]
        },
        {
          "output_type": "stream",
          "name": "stdout",
          "text": [
            "No landmarks detected for /content/drive/MyDrive/deep_learning_project/Dataset/TRAIN/goddess_train/00000204.jpg\n",
            "No landmarks detected for /content/drive/MyDrive/deep_learning_project/Dataset/TRAIN/goddess_train/00000146_augmented_7.jpg\n"
          ]
        },
        {
          "output_type": "stream",
          "name": "stderr",
          "text": [
            " 15%|█▌        | 175/1130 [01:15<01:13, 13.00it/s]"
          ]
        },
        {
          "output_type": "stream",
          "name": "stdout",
          "text": [
            "No landmarks detected for /content/drive/MyDrive/deep_learning_project/Dataset/TRAIN/goddess_train/00000165_augmented_2.jpg\n"
          ]
        },
        {
          "output_type": "stream",
          "name": "stderr",
          "text": [
            " 17%|█▋        | 189/1130 [01:16<01:15, 12.55it/s]"
          ]
        },
        {
          "output_type": "stream",
          "name": "stdout",
          "text": [
            "No landmarks detected for /content/drive/MyDrive/deep_learning_project/Dataset/TRAIN/goddess_train/00000149_augmented_5.jpg\n"
          ]
        },
        {
          "output_type": "stream",
          "name": "stderr",
          "text": [
            " 18%|█▊        | 202/1130 [01:18<02:23,  6.47it/s]"
          ]
        },
        {
          "output_type": "stream",
          "name": "stdout",
          "text": [
            "No landmarks detected for /content/drive/MyDrive/deep_learning_project/Dataset/TRAIN/goddess_train/00000149_augmented_2.jpg\n"
          ]
        },
        {
          "output_type": "stream",
          "name": "stderr",
          "text": [
            " 19%|█▉        | 220/1130 [01:22<03:07,  4.84it/s]"
          ]
        },
        {
          "output_type": "stream",
          "name": "stdout",
          "text": [
            "No landmarks detected for /content/drive/MyDrive/deep_learning_project/Dataset/TRAIN/goddess_train/00000165_augmented_5.jpg\n"
          ]
        },
        {
          "output_type": "stream",
          "name": "stderr",
          "text": [
            " 20%|██        | 226/1130 [01:22<01:45,  8.57it/s]"
          ]
        },
        {
          "output_type": "stream",
          "name": "stdout",
          "text": [
            "No landmarks detected for /content/drive/MyDrive/deep_learning_project/Dataset/TRAIN/goddess_train/00000149_augmented_3.jpg\n",
            "No landmarks detected for /content/drive/MyDrive/deep_learning_project/Dataset/TRAIN/goddess_train/00000146_augmented_0.jpg\n"
          ]
        },
        {
          "output_type": "stream",
          "name": "stderr",
          "text": [
            " 21%|██        | 233/1130 [01:23<01:22, 10.93it/s]"
          ]
        },
        {
          "output_type": "stream",
          "name": "stdout",
          "text": [
            "No landmarks detected for /content/drive/MyDrive/deep_learning_project/Dataset/TRAIN/goddess_train/00000149.jpg\n",
            "No landmarks detected for /content/drive/MyDrive/deep_learning_project/Dataset/TRAIN/goddess_train/00000110_augmented_7.jpg\n"
          ]
        },
        {
          "output_type": "stream",
          "name": "stderr",
          "text": [
            " 22%|██▏       | 247/1130 [01:24<01:25, 10.32it/s]"
          ]
        },
        {
          "output_type": "stream",
          "name": "stdout",
          "text": [
            "No landmarks detected for /content/drive/MyDrive/deep_learning_project/Dataset/TRAIN/goddess_train/00000165_augmented_7.jpg\n"
          ]
        },
        {
          "output_type": "stream",
          "name": "stderr",
          "text": [
            " 23%|██▎       | 260/1130 [01:26<01:10, 12.33it/s]"
          ]
        },
        {
          "output_type": "stream",
          "name": "stdout",
          "text": [
            "No landmarks detected for /content/drive/MyDrive/deep_learning_project/Dataset/TRAIN/goddess_train/00000146_augmented_2.jpg\n",
            "No landmarks detected for /content/drive/MyDrive/deep_learning_project/Dataset/TRAIN/goddess_train/00000110_augmented_5.jpg\n"
          ]
        },
        {
          "output_type": "stream",
          "name": "stderr",
          "text": [
            " 25%|██▍       | 282/1130 [01:28<01:04, 13.06it/s]"
          ]
        },
        {
          "output_type": "stream",
          "name": "stdout",
          "text": [
            "No landmarks detected for /content/drive/MyDrive/deep_learning_project/Dataset/TRAIN/goddess_train/00000124_augmented_2.jpg\n"
          ]
        },
        {
          "output_type": "stream",
          "name": "stderr",
          "text": [
            " 27%|██▋       | 308/1130 [01:29<00:59, 13.93it/s]"
          ]
        },
        {
          "output_type": "stream",
          "name": "stdout",
          "text": [
            "No landmarks detected for /content/drive/MyDrive/deep_learning_project/Dataset/TRAIN/goddess_train/00000110_augmented_6.jpg\n"
          ]
        },
        {
          "output_type": "stream",
          "name": "stderr",
          "text": [
            " 28%|██▊       | 315/1130 [01:30<01:00, 13.54it/s]"
          ]
        },
        {
          "output_type": "stream",
          "name": "stdout",
          "text": [
            "No landmarks detected for /content/drive/MyDrive/deep_learning_project/Dataset/TRAIN/goddess_train/00000165_augmented_4.jpg\n"
          ]
        },
        {
          "output_type": "stream",
          "name": "stderr",
          "text": [
            " 30%|███       | 341/1130 [01:32<01:05, 12.02it/s]"
          ]
        },
        {
          "output_type": "stream",
          "name": "stdout",
          "text": [
            "No landmarks detected for /content/drive/MyDrive/deep_learning_project/Dataset/TRAIN/goddess_train/00000124_augmented_1.jpg\n"
          ]
        },
        {
          "output_type": "stream",
          "name": "stderr",
          "text": [
            " 31%|███       | 345/1130 [01:32<00:56, 13.97it/s]"
          ]
        },
        {
          "output_type": "stream",
          "name": "stdout",
          "text": [
            "No landmarks detected for /content/drive/MyDrive/deep_learning_project/Dataset/TRAIN/goddess_train/00000299.jpg\n"
          ]
        },
        {
          "output_type": "stream",
          "name": "stderr",
          "text": [
            " 32%|███▏      | 365/1130 [01:34<00:57, 13.20it/s]"
          ]
        },
        {
          "output_type": "stream",
          "name": "stdout",
          "text": [
            "No landmarks detected for /content/drive/MyDrive/deep_learning_project/Dataset/TRAIN/goddess_train/00000110.jpg\n"
          ]
        },
        {
          "output_type": "stream",
          "name": "stderr",
          "text": [
            " 33%|███▎      | 369/1130 [01:34<00:50, 15.01it/s]"
          ]
        },
        {
          "output_type": "stream",
          "name": "stdout",
          "text": [
            "No landmarks detected for /content/drive/MyDrive/deep_learning_project/Dataset/TRAIN/goddess_train/00000272.png\n"
          ]
        },
        {
          "output_type": "stream",
          "name": "stderr",
          "text": [
            " 33%|███▎      | 374/1130 [01:34<00:47, 15.83it/s]"
          ]
        },
        {
          "output_type": "stream",
          "name": "stdout",
          "text": [
            "No landmarks detected for /content/drive/MyDrive/deep_learning_project/Dataset/TRAIN/goddess_train/00000124_augmented_3.jpg\n"
          ]
        },
        {
          "output_type": "stream",
          "name": "stderr",
          "text": [
            " 35%|███▌      | 398/1130 [01:36<01:04, 11.42it/s]"
          ]
        },
        {
          "output_type": "stream",
          "name": "stdout",
          "text": [
            "No landmarks detected for /content/drive/MyDrive/deep_learning_project/Dataset/TRAIN/goddess_train/00000100_augmented_4.jpg\n"
          ]
        },
        {
          "output_type": "stream",
          "name": "stderr",
          "text": [
            " 36%|███▌      | 402/1130 [01:36<01:05, 11.13it/s]"
          ]
        },
        {
          "output_type": "stream",
          "name": "stdout",
          "text": [
            "No landmarks detected for /content/drive/MyDrive/deep_learning_project/Dataset/TRAIN/goddess_train/00000210_augmented_2.jpg\n"
          ]
        },
        {
          "output_type": "stream",
          "name": "stderr",
          "text": [
            " 41%|████      | 459/1130 [01:43<01:13,  9.09it/s]"
          ]
        },
        {
          "output_type": "stream",
          "name": "stdout",
          "text": [
            "No landmarks detected for /content/drive/MyDrive/deep_learning_project/Dataset/TRAIN/goddess_train/00000124_augmented_6.jpg\n"
          ]
        },
        {
          "output_type": "stream",
          "name": "stderr",
          "text": [
            " 48%|████▊     | 542/1130 [01:49<00:36, 16.24it/s]"
          ]
        },
        {
          "output_type": "stream",
          "name": "stdout",
          "text": [
            "No landmarks detected for /content/drive/MyDrive/deep_learning_project/Dataset/TRAIN/goddess_train/00000228_augmented_1.jpg\n"
          ]
        },
        {
          "output_type": "stream",
          "name": "stderr",
          "text": [
            " 49%|████▉     | 556/1130 [01:50<00:37, 15.43it/s]"
          ]
        },
        {
          "output_type": "stream",
          "name": "stdout",
          "text": [
            "No landmarks detected for /content/drive/MyDrive/deep_learning_project/Dataset/TRAIN/goddess_train/00000204_augmented_6.jpg\n"
          ]
        },
        {
          "output_type": "stream",
          "name": "stderr",
          "text": [
            " 51%|█████▏    | 581/1130 [01:52<00:52, 10.48it/s]"
          ]
        },
        {
          "output_type": "stream",
          "name": "stdout",
          "text": [
            "No landmarks detected for /content/drive/MyDrive/deep_learning_project/Dataset/TRAIN/goddess_train/00000228_augmented_2.jpg\n"
          ]
        },
        {
          "output_type": "stream",
          "name": "stderr",
          "text": [
            " 53%|█████▎    | 600/1130 [01:54<00:50, 10.39it/s]"
          ]
        },
        {
          "output_type": "stream",
          "name": "stdout",
          "text": [
            "No landmarks detected for /content/drive/MyDrive/deep_learning_project/Dataset/TRAIN/goddess_train/00000204_augmented_5.jpg\n"
          ]
        },
        {
          "output_type": "stream",
          "name": "stderr",
          "text": [
            " 55%|█████▍    | 621/1130 [01:56<00:35, 14.28it/s]"
          ]
        },
        {
          "output_type": "stream",
          "name": "stdout",
          "text": [
            "No landmarks detected for /content/drive/MyDrive/deep_learning_project/Dataset/TRAIN/goddess_train/00000204_augmented_7.jpg\n"
          ]
        },
        {
          "output_type": "stream",
          "name": "stderr",
          "text": [
            " 56%|█████▌    | 631/1130 [01:57<00:31, 15.72it/s]"
          ]
        },
        {
          "output_type": "stream",
          "name": "stdout",
          "text": [
            "No landmarks detected for /content/drive/MyDrive/deep_learning_project/Dataset/TRAIN/goddess_train/00000286_augmented_6.jpg\n"
          ]
        },
        {
          "output_type": "stream",
          "name": "stderr",
          "text": [
            " 56%|█████▋    | 637/1130 [01:57<00:31, 15.73it/s]"
          ]
        },
        {
          "output_type": "stream",
          "name": "stdout",
          "text": [
            "No landmarks detected for /content/drive/MyDrive/deep_learning_project/Dataset/TRAIN/goddess_train/00000228_augmented_0.jpg\n"
          ]
        },
        {
          "output_type": "stream",
          "name": "stderr",
          "text": [
            "\r 57%|█████▋    | 640/1130 [01:58<00:28, 16.93it/s]"
          ]
        },
        {
          "output_type": "stream",
          "name": "stdout",
          "text": [
            "No landmarks detected for /content/drive/MyDrive/deep_learning_project/Dataset/TRAIN/goddess_train/00000315_augmented_6.jpg\n"
          ]
        },
        {
          "output_type": "stream",
          "name": "stderr",
          "text": [
            " 60%|█████▉    | 677/1130 [02:00<00:25, 17.43it/s]"
          ]
        },
        {
          "output_type": "stream",
          "name": "stdout",
          "text": [
            "No landmarks detected for /content/drive/MyDrive/deep_learning_project/Dataset/TRAIN/goddess_train/00000204_augmented_3.jpg\n",
            "No landmarks detected for /content/drive/MyDrive/deep_learning_project/Dataset/TRAIN/goddess_train/00000204_augmented_1.jpg\n"
          ]
        },
        {
          "output_type": "stream",
          "name": "stderr",
          "text": [
            " 61%|██████    | 692/1130 [02:01<00:27, 16.12it/s]"
          ]
        },
        {
          "output_type": "stream",
          "name": "stdout",
          "text": [
            "No landmarks detected for /content/drive/MyDrive/deep_learning_project/Dataset/TRAIN/goddess_train/00000228_augmented_6.jpg\n"
          ]
        },
        {
          "output_type": "stream",
          "name": "stderr",
          "text": [
            " 62%|██████▏   | 704/1130 [02:02<00:26, 15.96it/s]"
          ]
        },
        {
          "output_type": "stream",
          "name": "stdout",
          "text": [
            "No landmarks detected for /content/drive/MyDrive/deep_learning_project/Dataset/TRAIN/goddess_train/00000105_augmented_1.jpg\n"
          ]
        },
        {
          "output_type": "stream",
          "name": "stderr",
          "text": [
            " 65%|██████▍   | 729/1130 [02:03<00:25, 15.57it/s]"
          ]
        },
        {
          "output_type": "stream",
          "name": "stdout",
          "text": [
            "No landmarks detected for /content/drive/MyDrive/deep_learning_project/Dataset/TRAIN/goddess_train/00000286_augmented_1.jpg\n"
          ]
        },
        {
          "output_type": "stream",
          "name": "stderr",
          "text": [
            " 65%|██████▍   | 734/1130 [02:04<00:23, 16.53it/s]"
          ]
        },
        {
          "output_type": "stream",
          "name": "stdout",
          "text": [
            "No landmarks detected for /content/drive/MyDrive/deep_learning_project/Dataset/TRAIN/goddess_train/00000204_augmented_0.jpg\n"
          ]
        },
        {
          "output_type": "stream",
          "name": "stderr",
          "text": [
            " 66%|██████▋   | 750/1130 [02:05<00:24, 15.22it/s]"
          ]
        },
        {
          "output_type": "stream",
          "name": "stdout",
          "text": [
            "No landmarks detected for /content/drive/MyDrive/deep_learning_project/Dataset/TRAIN/goddess_train/00000286_augmented_5.jpg\n"
          ]
        },
        {
          "output_type": "stream",
          "name": "stderr",
          "text": [
            " 67%|██████▋   | 758/1130 [02:05<00:23, 15.88it/s]"
          ]
        },
        {
          "output_type": "stream",
          "name": "stdout",
          "text": [
            "No landmarks detected for /content/drive/MyDrive/deep_learning_project/Dataset/TRAIN/goddess_train/00000228_augmented_3.jpg\n"
          ]
        },
        {
          "output_type": "stream",
          "name": "stderr",
          "text": [
            " 68%|██████▊   | 763/1130 [02:06<00:22, 16.17it/s]"
          ]
        },
        {
          "output_type": "stream",
          "name": "stdout",
          "text": [
            "No landmarks detected for /content/drive/MyDrive/deep_learning_project/Dataset/TRAIN/goddess_train/00000204_augmented_4.jpg\n"
          ]
        },
        {
          "output_type": "stream",
          "name": "stderr",
          "text": [
            " 69%|██████▉   | 784/1130 [02:08<00:33, 10.31it/s]"
          ]
        },
        {
          "output_type": "stream",
          "name": "stdout",
          "text": [
            "No landmarks detected for /content/drive/MyDrive/deep_learning_project/Dataset/TRAIN/goddess_train/00000299_augmented_5.jpg\n"
          ]
        },
        {
          "output_type": "stream",
          "name": "stderr",
          "text": [
            " 71%|███████   | 797/1130 [02:09<00:30, 10.82it/s]"
          ]
        },
        {
          "output_type": "stream",
          "name": "stdout",
          "text": [
            "No landmarks detected for /content/drive/MyDrive/deep_learning_project/Dataset/TRAIN/goddess_train/00000270_augmented_3.jpg\n"
          ]
        },
        {
          "output_type": "stream",
          "name": "stderr",
          "text": [
            " 71%|███████   | 804/1130 [02:10<00:30, 10.73it/s]"
          ]
        },
        {
          "output_type": "stream",
          "name": "stdout",
          "text": [
            "No landmarks detected for /content/drive/MyDrive/deep_learning_project/Dataset/TRAIN/goddess_train/00000270_augmented_2.jpg\n"
          ]
        },
        {
          "output_type": "stream",
          "name": "stderr",
          "text": [
            " 72%|███████▏  | 814/1130 [02:11<00:29, 10.74it/s]"
          ]
        },
        {
          "output_type": "stream",
          "name": "stdout",
          "text": [
            "No landmarks detected for /content/drive/MyDrive/deep_learning_project/Dataset/TRAIN/goddess_train/00000299_augmented_4.jpg\n"
          ]
        },
        {
          "output_type": "stream",
          "name": "stderr",
          "text": [
            " 74%|███████▎  | 833/1130 [02:12<00:19, 15.50it/s]"
          ]
        },
        {
          "output_type": "stream",
          "name": "stdout",
          "text": [
            "No landmarks detected for /content/drive/MyDrive/deep_learning_project/Dataset/TRAIN/goddess_train/00000242_augmented_0.jpg\n"
          ]
        },
        {
          "output_type": "stream",
          "name": "stderr",
          "text": [
            " 74%|███████▍  | 840/1130 [02:12<00:20, 14.32it/s]"
          ]
        },
        {
          "output_type": "stream",
          "name": "stdout",
          "text": [
            "No landmarks detected for /content/drive/MyDrive/deep_learning_project/Dataset/TRAIN/goddess_train/00000204_augmented_2.jpg\n"
          ]
        },
        {
          "output_type": "stream",
          "name": "stderr",
          "text": [
            " 75%|███████▍  | 846/1130 [02:13<00:20, 14.17it/s]"
          ]
        },
        {
          "output_type": "stream",
          "name": "stdout",
          "text": [
            "No landmarks detected for /content/drive/MyDrive/deep_learning_project/Dataset/TRAIN/goddess_train/00000113_augmented_1.jpg\n"
          ]
        },
        {
          "output_type": "stream",
          "name": "stderr",
          "text": [
            " 76%|███████▌  | 855/1130 [02:13<00:17, 15.91it/s]"
          ]
        },
        {
          "output_type": "stream",
          "name": "stdout",
          "text": [
            "No landmarks detected for /content/drive/MyDrive/deep_learning_project/Dataset/TRAIN/goddess_train/00000286_augmented_3.jpg\n"
          ]
        },
        {
          "output_type": "stream",
          "name": "stderr",
          "text": [
            " 77%|███████▋  | 873/1130 [02:15<00:15, 16.20it/s]"
          ]
        },
        {
          "output_type": "stream",
          "name": "stdout",
          "text": [
            "No landmarks detected for /content/drive/MyDrive/deep_learning_project/Dataset/TRAIN/goddess_train/00000228_augmented_5.jpg\n"
          ]
        },
        {
          "output_type": "stream",
          "name": "stderr",
          "text": [
            " 78%|███████▊  | 882/1130 [02:15<00:15, 15.87it/s]"
          ]
        },
        {
          "output_type": "stream",
          "name": "stdout",
          "text": [
            "No landmarks detected for /content/drive/MyDrive/deep_learning_project/Dataset/TRAIN/goddess_train/00000228_augmented_4.jpg\n"
          ]
        },
        {
          "output_type": "stream",
          "name": "stderr",
          "text": [
            " 79%|███████▉  | 891/1130 [02:16<00:14, 16.53it/s]"
          ]
        },
        {
          "output_type": "stream",
          "name": "stdout",
          "text": [
            "No landmarks detected for /content/drive/MyDrive/deep_learning_project/Dataset/TRAIN/goddess_train/00000282.png\n"
          ]
        },
        {
          "output_type": "stream",
          "name": "stderr",
          "text": [
            " 81%|████████  | 917/1130 [02:18<00:13, 15.63it/s]"
          ]
        },
        {
          "output_type": "stream",
          "name": "stdout",
          "text": [
            "No landmarks detected for /content/drive/MyDrive/deep_learning_project/Dataset/TRAIN/goddess_train/00000270_augmented_0.jpg\n"
          ]
        },
        {
          "output_type": "stream",
          "name": "stderr",
          "text": [
            " 83%|████████▎ | 939/1130 [02:19<00:12, 15.49it/s]"
          ]
        },
        {
          "output_type": "stream",
          "name": "stdout",
          "text": [
            "No landmarks detected for /content/drive/MyDrive/deep_learning_project/Dataset/TRAIN/goddess_train/00000146.jpg\n"
          ]
        },
        {
          "output_type": "stream",
          "name": "stderr",
          "text": [
            " 84%|████████▍ | 951/1130 [02:20<00:11, 15.77it/s]"
          ]
        },
        {
          "output_type": "stream",
          "name": "stdout",
          "text": [
            "No landmarks detected for /content/drive/MyDrive/deep_learning_project/Dataset/TRAIN/goddess_train/00000299_augmented_7.jpg\n"
          ]
        },
        {
          "output_type": "stream",
          "name": "stderr",
          "text": [
            " 86%|████████▌ | 969/1130 [02:21<00:14, 11.33it/s]"
          ]
        },
        {
          "output_type": "stream",
          "name": "stdout",
          "text": [
            "No landmarks detected for /content/drive/MyDrive/deep_learning_project/Dataset/TRAIN/goddess_train/00000242_augmented_1.jpg\n"
          ]
        },
        {
          "output_type": "stream",
          "name": "stderr",
          "text": [
            " 87%|████████▋ | 981/1130 [02:23<00:14, 10.45it/s]"
          ]
        },
        {
          "output_type": "stream",
          "name": "stdout",
          "text": [
            "No landmarks detected for /content/drive/MyDrive/deep_learning_project/Dataset/TRAIN/goddess_train/00000270_augmented_4.jpg\n"
          ]
        },
        {
          "output_type": "stream",
          "name": "stderr",
          "text": [
            "\r 87%|████████▋ | 983/1130 [02:23<00:13, 11.10it/s]"
          ]
        },
        {
          "output_type": "stream",
          "name": "stdout",
          "text": [
            "No landmarks detected for /content/drive/MyDrive/deep_learning_project/Dataset/TRAIN/goddess_train/00000299_augmented_2.jpg\n"
          ]
        },
        {
          "output_type": "stream",
          "name": "stderr",
          "text": [
            " 89%|████████▉ | 1008/1130 [02:25<00:11, 10.87it/s]"
          ]
        },
        {
          "output_type": "stream",
          "name": "stdout",
          "text": [
            "No landmarks detected for /content/drive/MyDrive/deep_learning_project/Dataset/TRAIN/goddess_train/00000242_augmented_6.jpg\n"
          ]
        },
        {
          "output_type": "stream",
          "name": "stderr",
          "text": [
            " 90%|█████████ | 1021/1130 [02:26<00:07, 14.39it/s]"
          ]
        },
        {
          "output_type": "stream",
          "name": "stdout",
          "text": [
            "No landmarks detected for /content/drive/MyDrive/deep_learning_project/Dataset/TRAIN/goddess_train/00000242_augmented_2.jpg\n"
          ]
        },
        {
          "output_type": "stream",
          "name": "stderr",
          "text": [
            " 91%|█████████ | 1028/1130 [02:27<00:06, 15.88it/s]"
          ]
        },
        {
          "output_type": "stream",
          "name": "stdout",
          "text": [
            "No landmarks detected for /content/drive/MyDrive/deep_learning_project/Dataset/TRAIN/goddess_train/00000299_augmented_6.jpg\n"
          ]
        },
        {
          "output_type": "stream",
          "name": "stderr",
          "text": [
            " 94%|█████████▎| 1058/1130 [02:29<00:04, 16.23it/s]"
          ]
        },
        {
          "output_type": "stream",
          "name": "stdout",
          "text": [
            "No landmarks detected for /content/drive/MyDrive/deep_learning_project/Dataset/TRAIN/goddess_train/00000299_augmented_1.jpg\n"
          ]
        },
        {
          "output_type": "stream",
          "name": "stderr",
          "text": [
            " 94%|█████████▍| 1062/1130 [02:29<00:04, 16.82it/s]"
          ]
        },
        {
          "output_type": "stream",
          "name": "stdout",
          "text": [
            "No landmarks detected for /content/drive/MyDrive/deep_learning_project/Dataset/TRAIN/goddess_train/00000270_augmented_7.jpg\n"
          ]
        },
        {
          "output_type": "stream",
          "name": "stderr",
          "text": [
            " 95%|█████████▌| 1077/1130 [02:30<00:03, 15.90it/s]"
          ]
        },
        {
          "output_type": "stream",
          "name": "stdout",
          "text": [
            "No landmarks detected for /content/drive/MyDrive/deep_learning_project/Dataset/TRAIN/goddess_train/00000242_augmented_7.jpg\n"
          ]
        },
        {
          "output_type": "stream",
          "name": "stderr",
          "text": [
            " 96%|█████████▌| 1084/1130 [02:30<00:02, 16.65it/s]"
          ]
        },
        {
          "output_type": "stream",
          "name": "stdout",
          "text": [
            "No landmarks detected for /content/drive/MyDrive/deep_learning_project/Dataset/TRAIN/goddess_train/00000299_augmented_3.jpg\n",
            "No landmarks detected for /content/drive/MyDrive/deep_learning_project/Dataset/TRAIN/goddess_train/00000112_augmented_4.jpg\n"
          ]
        },
        {
          "output_type": "stream",
          "name": "stderr",
          "text": [
            " 99%|█████████▉| 1124/1130 [02:33<00:00, 15.15it/s]"
          ]
        },
        {
          "output_type": "stream",
          "name": "stdout",
          "text": [
            "No landmarks detected for /content/drive/MyDrive/deep_learning_project/Dataset/TRAIN/goddess_train/00000270_augmented_6.jpg\n"
          ]
        },
        {
          "output_type": "stream",
          "name": "stderr",
          "text": [
            "100%|██████████| 1130/1130 [02:34<00:00,  7.33it/s]"
          ]
        },
        {
          "output_type": "stream",
          "name": "stdout",
          "text": [
            "No landmarks detected for /content/drive/MyDrive/deep_learning_project/Dataset/TRAIN/goddess_train/00000299_augmented_0.jpg\n",
            "Processing 'plank_train' with label 2\n"
          ]
        },
        {
          "output_type": "stream",
          "name": "stderr",
          "text": [
            "\n",
            "  3%|▎         | 53/1551 [00:29<02:10, 11.47it/s]"
          ]
        },
        {
          "output_type": "stream",
          "name": "stdout",
          "text": [
            "No landmarks detected for /content/drive/MyDrive/deep_learning_project/Dataset/TRAIN/plank_train/00000285_augmented_0.jpg\n"
          ]
        },
        {
          "output_type": "stream",
          "name": "stderr",
          "text": [
            "  5%|▍         | 77/1551 [00:31<02:13, 11.08it/s]"
          ]
        },
        {
          "output_type": "stream",
          "name": "stdout",
          "text": [
            "No landmarks detected for /content/drive/MyDrive/deep_learning_project/Dataset/TRAIN/plank_train/00000285_augmented_2.jpg\n"
          ]
        },
        {
          "output_type": "stream",
          "name": "stderr",
          "text": [
            "  8%|▊         | 131/1551 [00:36<01:33, 15.21it/s]"
          ]
        },
        {
          "output_type": "stream",
          "name": "stdout",
          "text": [
            "No landmarks detected for /content/drive/MyDrive/deep_learning_project/Dataset/TRAIN/plank_train/00000285_augmented_3.jpg\n"
          ]
        },
        {
          "output_type": "stream",
          "name": "stderr",
          "text": [
            " 11%|█         | 163/1551 [00:38<01:30, 15.29it/s]"
          ]
        },
        {
          "output_type": "stream",
          "name": "stdout",
          "text": [
            "No landmarks detected for /content/drive/MyDrive/deep_learning_project/Dataset/TRAIN/plank_train/00000285_augmented_1.jpg\n"
          ]
        },
        {
          "output_type": "stream",
          "name": "stderr",
          "text": [
            " 14%|█▍        | 215/1551 [00:42<01:27, 15.24it/s]"
          ]
        },
        {
          "output_type": "stream",
          "name": "stdout",
          "text": [
            "No landmarks detected for /content/drive/MyDrive/deep_learning_project/Dataset/TRAIN/plank_train/00000285_augmented_5.jpg\n"
          ]
        },
        {
          "output_type": "stream",
          "name": "stderr",
          "text": [
            " 16%|█▌        | 248/1551 [00:44<01:25, 15.20it/s]"
          ]
        },
        {
          "output_type": "stream",
          "name": "stdout",
          "text": [
            "No landmarks detected for /content/drive/MyDrive/deep_learning_project/Dataset/TRAIN/plank_train/00000285_augmented_7.jpg\n"
          ]
        },
        {
          "output_type": "stream",
          "name": "stderr",
          "text": [
            " 19%|█▉        | 296/1551 [00:49<01:54, 10.96it/s]"
          ]
        },
        {
          "output_type": "stream",
          "name": "stdout",
          "text": [
            "No landmarks detected for /content/drive/MyDrive/deep_learning_project/Dataset/TRAIN/plank_train/00000285_augmented_6.jpg\n"
          ]
        },
        {
          "output_type": "stream",
          "name": "stderr",
          "text": [
            " 21%|██▏       | 332/1551 [00:52<01:20, 15.19it/s]"
          ]
        },
        {
          "output_type": "stream",
          "name": "stdout",
          "text": [
            "No landmarks detected for /content/drive/MyDrive/deep_learning_project/Dataset/TRAIN/plank_train/00000318_augmented_5.jpg\n",
            "No landmarks detected for /content/drive/MyDrive/deep_learning_project/Dataset/TRAIN/plank_train/00000249_augmented_0.jpg\n"
          ]
        },
        {
          "output_type": "stream",
          "name": "stderr",
          "text": [
            " 24%|██▍       | 373/1551 [00:55<01:20, 14.63it/s]"
          ]
        },
        {
          "output_type": "stream",
          "name": "stdout",
          "text": [
            "No landmarks detected for /content/drive/MyDrive/deep_learning_project/Dataset/TRAIN/plank_train/00000249_augmented_1.jpg\n"
          ]
        },
        {
          "output_type": "stream",
          "name": "stderr",
          "text": [
            " 25%|██▌       | 395/1551 [00:57<01:17, 14.87it/s]"
          ]
        },
        {
          "output_type": "stream",
          "name": "stdout",
          "text": [
            "No landmarks detected for /content/drive/MyDrive/deep_learning_project/Dataset/TRAIN/plank_train/00000175_augmented_1.jpg\n"
          ]
        },
        {
          "output_type": "stream",
          "name": "stderr",
          "text": [
            " 27%|██▋       | 413/1551 [00:58<01:23, 13.59it/s]"
          ]
        },
        {
          "output_type": "stream",
          "name": "stdout",
          "text": [
            "No landmarks detected for /content/drive/MyDrive/deep_learning_project/Dataset/TRAIN/plank_train/00000285_augmented_4.jpg\n"
          ]
        },
        {
          "output_type": "stream",
          "name": "stderr",
          "text": [
            " 28%|██▊       | 431/1551 [00:59<01:11, 15.73it/s]"
          ]
        },
        {
          "output_type": "stream",
          "name": "stdout",
          "text": [
            "No landmarks detected for /content/drive/MyDrive/deep_learning_project/Dataset/TRAIN/plank_train/00000150_augmented_2.jpg\n"
          ]
        },
        {
          "output_type": "stream",
          "name": "stderr",
          "text": [
            " 35%|███▌      | 548/1551 [01:10<01:05, 15.35it/s]"
          ]
        },
        {
          "output_type": "stream",
          "name": "stdout",
          "text": [
            "No landmarks detected for /content/drive/MyDrive/deep_learning_project/Dataset/TRAIN/plank_train/00000233_augmented_2.jpg\n"
          ]
        },
        {
          "output_type": "stream",
          "name": "stderr",
          "text": [
            " 38%|███▊      | 588/1551 [01:13<01:00, 15.83it/s]"
          ]
        },
        {
          "output_type": "stream",
          "name": "stdout",
          "text": [
            "No landmarks detected for /content/drive/MyDrive/deep_learning_project/Dataset/TRAIN/plank_train/00000249_augmented_4.jpg\n"
          ]
        },
        {
          "output_type": "stream",
          "name": "stderr",
          "text": [
            " 42%|████▏     | 645/1551 [01:17<00:54, 16.54it/s]"
          ]
        },
        {
          "output_type": "stream",
          "name": "stdout",
          "text": [
            "No landmarks detected for /content/drive/MyDrive/deep_learning_project/Dataset/TRAIN/plank_train/00000249_augmented_6.jpg\n"
          ]
        },
        {
          "output_type": "stream",
          "name": "stderr",
          "text": [
            " 50%|█████     | 782/1551 [01:29<00:50, 15.12it/s]"
          ]
        },
        {
          "output_type": "stream",
          "name": "stdout",
          "text": [
            "No landmarks detected for /content/drive/MyDrive/deep_learning_project/Dataset/TRAIN/plank_train/00000336_augmented_3.jpg\n"
          ]
        },
        {
          "output_type": "stream",
          "name": "stderr",
          "text": [
            " 52%|█████▏    | 814/1551 [01:31<00:47, 15.48it/s]"
          ]
        },
        {
          "output_type": "stream",
          "name": "stdout",
          "text": [
            "No landmarks detected for /content/drive/MyDrive/deep_learning_project/Dataset/TRAIN/plank_train/00000336_augmented_2.jpg\n"
          ]
        },
        {
          "output_type": "stream",
          "name": "stderr",
          "text": [
            " 54%|█████▍    | 844/1551 [01:33<00:45, 15.69it/s]"
          ]
        },
        {
          "output_type": "stream",
          "name": "stdout",
          "text": [
            "No landmarks detected for /content/drive/MyDrive/deep_learning_project/Dataset/TRAIN/plank_train/00000336_augmented_1.jpg\n"
          ]
        },
        {
          "output_type": "stream",
          "name": "stderr",
          "text": [
            " 57%|█████▋    | 885/1551 [01:37<01:02, 10.67it/s]"
          ]
        },
        {
          "output_type": "stream",
          "name": "stdout",
          "text": [
            "No landmarks detected for /content/drive/MyDrive/deep_learning_project/Dataset/TRAIN/plank_train/00000327_augmented_6.jpg\n"
          ]
        },
        {
          "output_type": "stream",
          "name": "stderr",
          "text": [
            " 60%|██████    | 937/1551 [01:41<00:45, 13.59it/s]"
          ]
        },
        {
          "output_type": "stream",
          "name": "stdout",
          "text": [
            "No landmarks detected for /content/drive/MyDrive/deep_learning_project/Dataset/TRAIN/plank_train/00000285.jpg\n"
          ]
        },
        {
          "output_type": "stream",
          "name": "stderr",
          "text": [
            " 61%|██████    | 947/1551 [01:42<00:39, 15.35it/s]"
          ]
        },
        {
          "output_type": "stream",
          "name": "stdout",
          "text": [
            "No landmarks detected for /content/drive/MyDrive/deep_learning_project/Dataset/TRAIN/plank_train/00000336_augmented_0.jpg\n"
          ]
        },
        {
          "output_type": "stream",
          "name": "stderr",
          "text": [
            " 64%|██████▎   | 987/1551 [01:45<00:38, 14.61it/s]"
          ]
        },
        {
          "output_type": "stream",
          "name": "stdout",
          "text": [
            "No landmarks detected for /content/drive/MyDrive/deep_learning_project/Dataset/TRAIN/plank_train/00000336_augmented_5.jpg\n"
          ]
        },
        {
          "output_type": "stream",
          "name": "stderr",
          "text": [
            " 67%|██████▋   | 1042/1551 [01:49<00:31, 15.98it/s]"
          ]
        },
        {
          "output_type": "stream",
          "name": "stdout",
          "text": [
            "No landmarks detected for /content/drive/MyDrive/deep_learning_project/Dataset/TRAIN/plank_train/00000336_augmented_7.jpg\n"
          ]
        },
        {
          "output_type": "stream",
          "name": "stderr",
          "text": [
            " 68%|██████▊   | 1054/1551 [01:49<00:33, 14.88it/s]"
          ]
        },
        {
          "output_type": "stream",
          "name": "stdout",
          "text": [
            "No landmarks detected for /content/drive/MyDrive/deep_learning_project/Dataset/TRAIN/plank_train/00000129_augmented_4.jpg\n"
          ]
        },
        {
          "output_type": "stream",
          "name": "stderr",
          "text": [
            " 70%|███████   | 1092/1551 [01:53<00:44, 10.29it/s]"
          ]
        },
        {
          "output_type": "stream",
          "name": "stdout",
          "text": [
            "No landmarks detected for /content/drive/MyDrive/deep_learning_project/Dataset/TRAIN/plank_train/00000266_augmented_1.jpg\n"
          ]
        },
        {
          "output_type": "stream",
          "name": "stderr",
          "text": [
            " 72%|███████▏  | 1122/1551 [01:56<00:29, 14.76it/s]"
          ]
        },
        {
          "output_type": "stream",
          "name": "stdout",
          "text": [
            "No landmarks detected for /content/drive/MyDrive/deep_learning_project/Dataset/TRAIN/plank_train/00000327_augmented_1.jpg\n"
          ]
        },
        {
          "output_type": "stream",
          "name": "stderr",
          "text": [
            " 74%|███████▎  | 1140/1551 [01:57<00:28, 14.45it/s]"
          ]
        },
        {
          "output_type": "stream",
          "name": "stdout",
          "text": [
            "No landmarks detected for /content/drive/MyDrive/deep_learning_project/Dataset/TRAIN/plank_train/00000129_augmented_5.jpg\n"
          ]
        },
        {
          "output_type": "stream",
          "name": "stderr",
          "text": [
            " 74%|███████▍  | 1144/1551 [01:58<00:28, 14.15it/s]"
          ]
        },
        {
          "output_type": "stream",
          "name": "stdout",
          "text": [
            "No landmarks detected for /content/drive/MyDrive/deep_learning_project/Dataset/TRAIN/plank_train/00000336_augmented_6.jpg\n"
          ]
        },
        {
          "output_type": "stream",
          "name": "stderr",
          "text": [
            " 83%|████████▎ | 1281/1551 [02:09<00:19, 13.69it/s]"
          ]
        },
        {
          "output_type": "stream",
          "name": "stdout",
          "text": [
            "No landmarks detected for /content/drive/MyDrive/deep_learning_project/Dataset/TRAIN/plank_train/00000266_augmented_0.jpg\n"
          ]
        },
        {
          "output_type": "stream",
          "name": "stderr",
          "text": [
            " 97%|█████████▋| 1502/1551 [02:28<00:03, 14.60it/s]"
          ]
        },
        {
          "output_type": "stream",
          "name": "stdout",
          "text": [
            "No landmarks detected for /content/drive/MyDrive/deep_learning_project/Dataset/TRAIN/plank_train/00000236.png\n"
          ]
        },
        {
          "output_type": "stream",
          "name": "stderr",
          "text": [
            "100%|██████████| 1551/1551 [02:31<00:00, 10.20it/s]\n"
          ]
        },
        {
          "output_type": "stream",
          "name": "stdout",
          "text": [
            "Processing 'tree_train' with label 3\n"
          ]
        },
        {
          "output_type": "stream",
          "name": "stderr",
          "text": [
            "  1%|          | 6/949 [00:03<10:14,  1.53it/s]"
          ]
        },
        {
          "output_type": "stream",
          "name": "stdout",
          "text": [
            "No landmarks detected for /content/drive/MyDrive/deep_learning_project/Dataset/TRAIN/tree_train/00000200_augmented_3.png\n"
          ]
        },
        {
          "output_type": "stream",
          "name": "stderr",
          "text": [
            "\r  1%|          | 7/949 [00:04<09:29,  1.65it/s]"
          ]
        },
        {
          "output_type": "stream",
          "name": "stdout",
          "text": [
            "No landmarks detected for /content/drive/MyDrive/deep_learning_project/Dataset/TRAIN/tree_train/00000200_augmented_7.png\n"
          ]
        },
        {
          "output_type": "stream",
          "name": "stderr",
          "text": [
            "  1%|▏         | 12/949 [00:20<39:24,  2.52s/it]"
          ]
        },
        {
          "output_type": "stream",
          "name": "stdout",
          "text": [
            "No landmarks detected for /content/drive/MyDrive/deep_learning_project/Dataset/TRAIN/tree_train/00000200_augmented_6.png\n"
          ]
        },
        {
          "output_type": "stream",
          "name": "stderr",
          "text": [
            "  1%|▏         | 14/949 [00:20<20:52,  1.34s/it]"
          ]
        },
        {
          "output_type": "stream",
          "name": "stdout",
          "text": [
            "No landmarks detected for /content/drive/MyDrive/deep_learning_project/Dataset/TRAIN/tree_train/00000166_augmented_2.jpg\n"
          ]
        },
        {
          "output_type": "stream",
          "name": "stderr",
          "text": [
            "  2%|▏         | 22/949 [00:22<04:06,  3.77it/s]"
          ]
        },
        {
          "output_type": "stream",
          "name": "stdout",
          "text": [
            "No landmarks detected for /content/drive/MyDrive/deep_learning_project/Dataset/TRAIN/tree_train/00000166_augmented2_2.jpg\n"
          ]
        },
        {
          "output_type": "stream",
          "name": "stderr",
          "text": [
            "  3%|▎         | 31/949 [00:24<02:19,  6.60it/s]"
          ]
        },
        {
          "output_type": "stream",
          "name": "stdout",
          "text": [
            "No landmarks detected for /content/drive/MyDrive/deep_learning_project/Dataset/TRAIN/tree_train/00000200_augmented2_3.png\n",
            "No landmarks detected for /content/drive/MyDrive/deep_learning_project/Dataset/TRAIN/tree_train/00000200_augmented2_2.png\n"
          ]
        },
        {
          "output_type": "stream",
          "name": "stderr",
          "text": [
            "  3%|▎         | 33/949 [00:24<02:18,  6.63it/s]"
          ]
        },
        {
          "output_type": "stream",
          "name": "stdout",
          "text": [
            "No landmarks detected for /content/drive/MyDrive/deep_learning_project/Dataset/TRAIN/tree_train/00000200_augmented2_6.png\n"
          ]
        },
        {
          "output_type": "stream",
          "name": "stderr",
          "text": [
            "  8%|▊         | 73/949 [00:29<01:25, 10.28it/s]"
          ]
        },
        {
          "output_type": "stream",
          "name": "stdout",
          "text": [
            "No landmarks detected for /content/drive/MyDrive/deep_learning_project/Dataset/TRAIN/tree_train/00000200_augmented_5.png\n"
          ]
        },
        {
          "output_type": "stream",
          "name": "stderr",
          "text": [
            " 10%|█         | 95/949 [00:31<01:37,  8.74it/s]"
          ]
        },
        {
          "output_type": "stream",
          "name": "stdout",
          "text": [
            "No landmarks detected for /content/drive/MyDrive/deep_learning_project/Dataset/TRAIN/tree_train/00000106_augmented_3.jpg\n"
          ]
        },
        {
          "output_type": "stream",
          "name": "stderr",
          "text": [
            " 11%|█▏        | 108/949 [00:33<01:47,  7.80it/s]"
          ]
        },
        {
          "output_type": "stream",
          "name": "stdout",
          "text": [
            "No landmarks detected for /content/drive/MyDrive/deep_learning_project/Dataset/TRAIN/tree_train/00000174_augmented_4.jpg\n"
          ]
        },
        {
          "output_type": "stream",
          "name": "stderr",
          "text": [
            " 13%|█▎        | 128/949 [00:36<01:32,  8.89it/s]"
          ]
        },
        {
          "output_type": "stream",
          "name": "stdout",
          "text": [
            "No landmarks detected for /content/drive/MyDrive/deep_learning_project/Dataset/TRAIN/tree_train/00000200_augmented_4.png\n"
          ]
        },
        {
          "output_type": "stream",
          "name": "stderr",
          "text": [
            " 18%|█▊        | 169/949 [00:39<01:02, 12.43it/s]"
          ]
        },
        {
          "output_type": "stream",
          "name": "stdout",
          "text": [
            "No landmarks detected for /content/drive/MyDrive/deep_learning_project/Dataset/TRAIN/tree_train/00000200_augmented_0.png\n"
          ]
        },
        {
          "output_type": "stream",
          "name": "stderr",
          "text": [
            " 24%|██▍       | 227/949 [00:44<00:52, 13.81it/s]"
          ]
        },
        {
          "output_type": "stream",
          "name": "stdout",
          "text": [
            "No landmarks detected for /content/drive/MyDrive/deep_learning_project/Dataset/TRAIN/tree_train/00000200_augmented_1.png\n",
            "No landmarks detected for /content/drive/MyDrive/deep_learning_project/Dataset/TRAIN/tree_train/00000200_augmented2_4.png\n"
          ]
        },
        {
          "output_type": "stream",
          "name": "stderr",
          "text": [
            " 26%|██▋       | 251/949 [00:46<00:54, 12.70it/s]"
          ]
        },
        {
          "output_type": "stream",
          "name": "stdout",
          "text": [
            "No landmarks detected for /content/drive/MyDrive/deep_learning_project/Dataset/TRAIN/tree_train/00000202.jpg\n"
          ]
        },
        {
          "output_type": "stream",
          "name": "stderr",
          "text": [
            " 32%|███▏      | 299/949 [00:52<01:10,  9.26it/s]"
          ]
        },
        {
          "output_type": "stream",
          "name": "stdout",
          "text": [
            "No landmarks detected for /content/drive/MyDrive/deep_learning_project/Dataset/TRAIN/tree_train/00000200_augmented2_5.png\n"
          ]
        },
        {
          "output_type": "stream",
          "name": "stderr",
          "text": [
            " 42%|████▏     | 402/949 [00:59<00:37, 14.53it/s]"
          ]
        },
        {
          "output_type": "stream",
          "name": "stdout",
          "text": [
            "No landmarks detected for /content/drive/MyDrive/deep_learning_project/Dataset/TRAIN/tree_train/00000166_augmented_6.jpg\n"
          ]
        },
        {
          "output_type": "stream",
          "name": "stderr",
          "text": [
            " 49%|████▉     | 465/949 [01:05<00:50,  9.56it/s]"
          ]
        },
        {
          "output_type": "stream",
          "name": "stdout",
          "text": [
            "No landmarks detected for /content/drive/MyDrive/deep_learning_project/Dataset/TRAIN/tree_train/00000200_augmented2_0.png\n"
          ]
        },
        {
          "output_type": "stream",
          "name": "stderr",
          "text": [
            " 51%|█████     | 486/949 [01:07<00:48,  9.46it/s]"
          ]
        },
        {
          "output_type": "stream",
          "name": "stdout",
          "text": [
            "No landmarks detected for /content/drive/MyDrive/deep_learning_project/Dataset/TRAIN/tree_train/00000200_augmented2_1.png\n"
          ]
        },
        {
          "output_type": "stream",
          "name": "stderr",
          "text": [
            " 55%|█████▌    | 524/949 [01:11<00:34, 12.16it/s]"
          ]
        },
        {
          "output_type": "stream",
          "name": "stdout",
          "text": [
            "No landmarks detected for /content/drive/MyDrive/deep_learning_project/Dataset/TRAIN/tree_train/00000166_augmented_0.jpg\n"
          ]
        },
        {
          "output_type": "stream",
          "name": "stderr",
          "text": [
            " 64%|██████▍   | 610/949 [01:17<00:24, 14.07it/s]"
          ]
        },
        {
          "output_type": "stream",
          "name": "stdout",
          "text": [
            "No landmarks detected for /content/drive/MyDrive/deep_learning_project/Dataset/TRAIN/tree_train/00000166_augmented2_1.jpg\n"
          ]
        },
        {
          "output_type": "stream",
          "name": "stderr",
          "text": [
            " 70%|██████▉   | 660/949 [01:22<00:28, 10.14it/s]"
          ]
        },
        {
          "output_type": "stream",
          "name": "stdout",
          "text": [
            "No landmarks detected for /content/drive/MyDrive/deep_learning_project/Dataset/TRAIN/tree_train/00000202_augmented_5.jpg\n"
          ]
        },
        {
          "output_type": "stream",
          "name": "stderr",
          "text": [
            " 71%|███████   | 671/949 [01:23<00:25, 10.70it/s]"
          ]
        },
        {
          "output_type": "stream",
          "name": "stdout",
          "text": [
            "No landmarks detected for /content/drive/MyDrive/deep_learning_project/Dataset/TRAIN/tree_train/00000202_augmented2_7.jpg\n"
          ]
        },
        {
          "output_type": "stream",
          "name": "stderr",
          "text": [
            " 73%|███████▎  | 691/949 [01:24<00:16, 15.45it/s]"
          ]
        },
        {
          "output_type": "stream",
          "name": "stdout",
          "text": [
            "No landmarks detected for /content/drive/MyDrive/deep_learning_project/Dataset/TRAIN/tree_train/00000202_augmented2_6.jpg\n"
          ]
        },
        {
          "output_type": "stream",
          "name": "stderr",
          "text": [
            " 74%|███████▍  | 703/949 [01:25<00:17, 14.38it/s]"
          ]
        },
        {
          "output_type": "stream",
          "name": "stdout",
          "text": [
            "No landmarks detected for /content/drive/MyDrive/deep_learning_project/Dataset/TRAIN/tree_train/00000202_augmented_4.jpg\n"
          ]
        },
        {
          "output_type": "stream",
          "name": "stderr",
          "text": [
            " 76%|███████▌  | 717/949 [01:26<00:17, 13.43it/s]"
          ]
        },
        {
          "output_type": "stream",
          "name": "stdout",
          "text": [
            "No landmarks detected for /content/drive/MyDrive/deep_learning_project/Dataset/TRAIN/tree_train/00000166_augmented2_7.jpg\n"
          ]
        },
        {
          "output_type": "stream",
          "name": "stderr",
          "text": [
            " 83%|████████▎ | 787/949 [01:31<00:10, 15.55it/s]"
          ]
        },
        {
          "output_type": "stream",
          "name": "stdout",
          "text": [
            "No landmarks detected for /content/drive/MyDrive/deep_learning_project/Dataset/TRAIN/tree_train/00000202_augmented_3.jpg\n",
            "No landmarks detected for /content/drive/MyDrive/deep_learning_project/Dataset/TRAIN/tree_train/00000106_augmented2_1.jpg\n"
          ]
        },
        {
          "output_type": "stream",
          "name": "stderr",
          "text": [
            " 86%|████████▌ | 815/949 [01:33<00:10, 13.28it/s]"
          ]
        },
        {
          "output_type": "stream",
          "name": "stdout",
          "text": [
            "No landmarks detected for /content/drive/MyDrive/deep_learning_project/Dataset/TRAIN/tree_train/00000202_augmented_2.jpg\n"
          ]
        },
        {
          "output_type": "stream",
          "name": "stderr",
          "text": [
            "\r 86%|████████▌ | 817/949 [01:34<00:10, 12.51it/s]"
          ]
        },
        {
          "output_type": "stream",
          "name": "stdout",
          "text": [
            "No landmarks detected for /content/drive/MyDrive/deep_learning_project/Dataset/TRAIN/tree_train/00000106_augmented2_0.jpg\n"
          ]
        },
        {
          "output_type": "stream",
          "name": "stderr",
          "text": [
            " 87%|████████▋ | 821/949 [01:34<00:12, 10.60it/s]"
          ]
        },
        {
          "output_type": "stream",
          "name": "stdout",
          "text": [
            "No landmarks detected for /content/drive/MyDrive/deep_learning_project/Dataset/TRAIN/tree_train/00000202_augmented2_0.jpg\n"
          ]
        },
        {
          "output_type": "stream",
          "name": "stderr",
          "text": [
            " 89%|████████▉ | 844/949 [01:37<00:10, 10.30it/s]"
          ]
        },
        {
          "output_type": "stream",
          "name": "stdout",
          "text": [
            "No landmarks detected for /content/drive/MyDrive/deep_learning_project/Dataset/TRAIN/tree_train/00000202_augmented2_4.jpg\n"
          ]
        },
        {
          "output_type": "stream",
          "name": "stderr",
          "text": [
            " 90%|█████████ | 856/949 [01:38<00:09,  9.79it/s]"
          ]
        },
        {
          "output_type": "stream",
          "name": "stdout",
          "text": [
            "No landmarks detected for /content/drive/MyDrive/deep_learning_project/Dataset/TRAIN/tree_train/00000202_augmented_6.jpg\n"
          ]
        },
        {
          "output_type": "stream",
          "name": "stderr",
          "text": [
            " 92%|█████████▏| 873/949 [01:39<00:05, 14.00it/s]"
          ]
        },
        {
          "output_type": "stream",
          "name": "stdout",
          "text": [
            "No landmarks detected for /content/drive/MyDrive/deep_learning_project/Dataset/TRAIN/tree_train/00000106_augmented2_5.jpg\n",
            "No landmarks detected for /content/drive/MyDrive/deep_learning_project/Dataset/TRAIN/tree_train/00000202_augmented_7.jpg\n"
          ]
        },
        {
          "output_type": "stream",
          "name": "stderr",
          "text": [
            " 93%|█████████▎| 879/949 [01:40<00:04, 15.26it/s]"
          ]
        },
        {
          "output_type": "stream",
          "name": "stdout",
          "text": [
            "No landmarks detected for /content/drive/MyDrive/deep_learning_project/Dataset/TRAIN/tree_train/00000202_augmented2_5.jpg\n"
          ]
        },
        {
          "output_type": "stream",
          "name": "stderr",
          "text": [
            " 96%|█████████▌| 913/949 [01:42<00:02, 15.53it/s]"
          ]
        },
        {
          "output_type": "stream",
          "name": "stdout",
          "text": [
            "No landmarks detected for /content/drive/MyDrive/deep_learning_project/Dataset/TRAIN/tree_train/00000202_augmented_0.jpg\n",
            "No landmarks detected for /content/drive/MyDrive/deep_learning_project/Dataset/TRAIN/tree_train/00000202_augmented2_2.jpg\n"
          ]
        },
        {
          "output_type": "stream",
          "name": "stderr",
          "text": [
            " 99%|█████████▊| 935/949 [01:44<00:00, 15.37it/s]"
          ]
        },
        {
          "output_type": "stream",
          "name": "stdout",
          "text": [
            "No landmarks detected for /content/drive/MyDrive/deep_learning_project/Dataset/TRAIN/tree_train/00000106_augmented2_3.jpg\n"
          ]
        },
        {
          "output_type": "stream",
          "name": "stderr",
          "text": [
            "100%|█████████▉| 945/949 [01:44<00:00, 14.74it/s]"
          ]
        },
        {
          "output_type": "stream",
          "name": "stdout",
          "text": [
            "No landmarks detected for /content/drive/MyDrive/deep_learning_project/Dataset/TRAIN/tree_train/00000202_augmented2_3.jpg\n"
          ]
        },
        {
          "output_type": "stream",
          "name": "stderr",
          "text": [
            "100%|██████████| 949/949 [01:45<00:00,  9.02it/s]\n"
          ]
        },
        {
          "output_type": "stream",
          "name": "stdout",
          "text": [
            "Processing 'warrior_train' with label 4\n"
          ]
        },
        {
          "output_type": "stream",
          "name": "stderr",
          "text": [
            "  2%|▏         | 27/1602 [00:37<11:32,  2.27it/s]"
          ]
        },
        {
          "output_type": "stream",
          "name": "stdout",
          "text": [
            "No landmarks detected for /content/drive/MyDrive/deep_learning_project/Dataset/TRAIN/warrior_train/00000247_augmented_5.jpg\n"
          ]
        },
        {
          "output_type": "stream",
          "name": "stderr",
          "text": [
            " 15%|█▍        | 237/1602 [00:55<01:37, 13.97it/s]"
          ]
        },
        {
          "output_type": "stream",
          "name": "stdout",
          "text": [
            "No landmarks detected for /content/drive/MyDrive/deep_learning_project/Dataset/TRAIN/warrior_train/00000300_augmented_1.jpg\n"
          ]
        },
        {
          "output_type": "stream",
          "name": "stderr",
          "text": [
            " 19%|█▊        | 297/1602 [01:00<01:26, 15.02it/s]"
          ]
        },
        {
          "output_type": "stream",
          "name": "stdout",
          "text": [
            "No landmarks detected for /content/drive/MyDrive/deep_learning_project/Dataset/TRAIN/warrior_train/00000247_augmented_2.jpg\n"
          ]
        },
        {
          "output_type": "stream",
          "name": "stderr",
          "text": [
            " 24%|██▍       | 382/1602 [01:08<02:32,  7.99it/s]"
          ]
        },
        {
          "output_type": "stream",
          "name": "stdout",
          "text": [
            "No landmarks detected for /content/drive/MyDrive/deep_learning_project/Dataset/TRAIN/warrior_train/00000325_augmented_4.jpg\n"
          ]
        },
        {
          "output_type": "stream",
          "name": "stderr",
          "text": [
            " 24%|██▍       | 387/1602 [01:08<01:56, 10.42it/s]"
          ]
        },
        {
          "output_type": "stream",
          "name": "stdout",
          "text": [
            "No landmarks detected for /content/drive/MyDrive/deep_learning_project/Dataset/TRAIN/warrior_train/00000182_augmented_2.jpg\n"
          ]
        },
        {
          "output_type": "stream",
          "name": "stderr",
          "text": [
            " 28%|██▊       | 441/1602 [01:13<01:17, 15.06it/s]"
          ]
        },
        {
          "output_type": "stream",
          "name": "stdout",
          "text": [
            "No landmarks detected for /content/drive/MyDrive/deep_learning_project/Dataset/TRAIN/warrior_train/00000182_augmented_3.jpg\n"
          ]
        },
        {
          "output_type": "stream",
          "name": "stderr",
          "text": [
            " 30%|██▉       | 475/1602 [01:15<01:23, 13.43it/s]"
          ]
        },
        {
          "output_type": "stream",
          "name": "stdout",
          "text": [
            "No landmarks detected for /content/drive/MyDrive/deep_learning_project/Dataset/TRAIN/warrior_train/00000273_augmented_4.jpg\n"
          ]
        },
        {
          "output_type": "stream",
          "name": "stderr",
          "text": [
            " 31%|███       | 495/1602 [01:16<01:11, 15.45it/s]"
          ]
        },
        {
          "output_type": "stream",
          "name": "stdout",
          "text": [
            "No landmarks detected for /content/drive/MyDrive/deep_learning_project/Dataset/TRAIN/warrior_train/00000273_augmented_5.jpg\n"
          ]
        },
        {
          "output_type": "stream",
          "name": "stderr",
          "text": [
            " 31%|███▏      | 503/1602 [01:17<01:19, 13.83it/s]"
          ]
        },
        {
          "output_type": "stream",
          "name": "stdout",
          "text": [
            "No landmarks detected for /content/drive/MyDrive/deep_learning_project/Dataset/TRAIN/warrior_train/00000325_augmented_6.jpg\n"
          ]
        },
        {
          "output_type": "stream",
          "name": "stderr",
          "text": [
            " 32%|███▏      | 516/1602 [01:18<01:08, 15.75it/s]"
          ]
        },
        {
          "output_type": "stream",
          "name": "stdout",
          "text": [
            "No landmarks detected for /content/drive/MyDrive/deep_learning_project/Dataset/TRAIN/warrior_train/00000273_augmented_7.jpg\n"
          ]
        },
        {
          "output_type": "stream",
          "name": "stderr",
          "text": [
            " 36%|███▌      | 571/1602 [01:22<01:41, 10.12it/s]"
          ]
        },
        {
          "output_type": "stream",
          "name": "stdout",
          "text": [
            "No landmarks detected for /content/drive/MyDrive/deep_learning_project/Dataset/TRAIN/warrior_train/00000222_augmented_0.jpg\n"
          ]
        },
        {
          "output_type": "stream",
          "name": "stderr",
          "text": [
            " 36%|███▌      | 574/1602 [01:23<01:46,  9.67it/s]"
          ]
        },
        {
          "output_type": "stream",
          "name": "stdout",
          "text": [
            "No landmarks detected for /content/drive/MyDrive/deep_learning_project/Dataset/TRAIN/warrior_train/00000182_augmented_4.jpg\n"
          ]
        },
        {
          "output_type": "stream",
          "name": "stderr",
          "text": [
            " 37%|███▋      | 600/1602 [01:26<01:36, 10.40it/s]"
          ]
        },
        {
          "output_type": "stream",
          "name": "stdout",
          "text": [
            "No landmarks detected for /content/drive/MyDrive/deep_learning_project/Dataset/TRAIN/warrior_train/00000182_augmented_0.jpg\n"
          ]
        },
        {
          "output_type": "stream",
          "name": "stderr",
          "text": [
            " 40%|███▉      | 640/1602 [01:29<01:01, 15.53it/s]"
          ]
        },
        {
          "output_type": "stream",
          "name": "stdout",
          "text": [
            "No landmarks detected for /content/drive/MyDrive/deep_learning_project/Dataset/TRAIN/warrior_train/00000182_augmented_7.jpg\n"
          ]
        },
        {
          "output_type": "stream",
          "name": "stderr",
          "text": [
            " 42%|████▏     | 666/1602 [01:30<01:00, 15.50it/s]"
          ]
        },
        {
          "output_type": "stream",
          "name": "stdout",
          "text": [
            "No landmarks detected for /content/drive/MyDrive/deep_learning_project/Dataset/TRAIN/warrior_train/00000182_augmented_5.jpg\n"
          ]
        },
        {
          "output_type": "stream",
          "name": "stderr",
          "text": [
            " 44%|████▍     | 707/1602 [01:33<00:58, 15.30it/s]"
          ]
        },
        {
          "output_type": "stream",
          "name": "stdout",
          "text": [
            "No landmarks detected for /content/drive/MyDrive/deep_learning_project/Dataset/TRAIN/warrior_train/00000178_augmented_2.jpg\n",
            "No landmarks detected for /content/drive/MyDrive/deep_learning_project/Dataset/TRAIN/warrior_train/00000182_augmented_6.jpg\n"
          ]
        },
        {
          "output_type": "stream",
          "name": "stderr",
          "text": [
            " 46%|████▌     | 729/1602 [01:35<01:02, 14.08it/s]"
          ]
        },
        {
          "output_type": "stream",
          "name": "stdout",
          "text": [
            "No landmarks detected for /content/drive/MyDrive/deep_learning_project/Dataset/TRAIN/warrior_train/00000325_augmented_0.jpg\n"
          ]
        },
        {
          "output_type": "stream",
          "name": "stderr",
          "text": [
            " 46%|████▌     | 739/1602 [01:36<00:56, 15.16it/s]"
          ]
        },
        {
          "output_type": "stream",
          "name": "stdout",
          "text": [
            "No landmarks detected for /content/drive/MyDrive/deep_learning_project/Dataset/TRAIN/warrior_train/00000273_augmented_1.jpg\n"
          ]
        },
        {
          "output_type": "stream",
          "name": "stderr",
          "text": [
            " 47%|████▋     | 753/1602 [01:36<00:53, 15.89it/s]"
          ]
        },
        {
          "output_type": "stream",
          "name": "stdout",
          "text": [
            "No landmarks detected for /content/drive/MyDrive/deep_learning_project/Dataset/TRAIN/warrior_train/00000273_augmented_0.jpg\n"
          ]
        },
        {
          "output_type": "stream",
          "name": "stderr",
          "text": [
            " 50%|█████     | 808/1602 [01:42<00:55, 14.25it/s]"
          ]
        },
        {
          "output_type": "stream",
          "name": "stdout",
          "text": [
            "No landmarks detected for /content/drive/MyDrive/deep_learning_project/Dataset/TRAIN/warrior_train/00000142_augmented_6.jpg\n"
          ]
        },
        {
          "output_type": "stream",
          "name": "stderr",
          "text": [
            " 51%|█████     | 821/1602 [01:43<00:50, 15.58it/s]"
          ]
        },
        {
          "output_type": "stream",
          "name": "stdout",
          "text": [
            "No landmarks detected for /content/drive/MyDrive/deep_learning_project/Dataset/TRAIN/warrior_train/00000137_augmented_4.jpg\n"
          ]
        },
        {
          "output_type": "stream",
          "name": "stderr",
          "text": [
            " 52%|█████▏    | 832/1602 [01:44<00:48, 15.95it/s]"
          ]
        },
        {
          "output_type": "stream",
          "name": "stdout",
          "text": [
            "No landmarks detected for /content/drive/MyDrive/deep_learning_project/Dataset/TRAIN/warrior_train/00000137_augmented_7.jpg\n",
            "No landmarks detected for /content/drive/MyDrive/deep_learning_project/Dataset/TRAIN/warrior_train/00000178_augmented_1.jpg\n"
          ]
        },
        {
          "output_type": "stream",
          "name": "stderr",
          "text": [
            " 53%|█████▎    | 842/1602 [01:45<00:46, 16.49it/s]"
          ]
        },
        {
          "output_type": "stream",
          "name": "stdout",
          "text": [
            "No landmarks detected for /content/drive/MyDrive/deep_learning_project/Dataset/TRAIN/warrior_train/00000178_augmented_3.jpg\n"
          ]
        },
        {
          "output_type": "stream",
          "name": "stderr",
          "text": [
            " 53%|█████▎    | 851/1602 [01:45<00:52, 14.35it/s]"
          ]
        },
        {
          "output_type": "stream",
          "name": "stdout",
          "text": [
            "No landmarks detected for /content/drive/MyDrive/deep_learning_project/Dataset/TRAIN/warrior_train/00000137_augmented_5.jpg\n"
          ]
        },
        {
          "output_type": "stream",
          "name": "stderr",
          "text": [
            " 55%|█████▍    | 881/1602 [01:47<00:48, 14.88it/s]"
          ]
        },
        {
          "output_type": "stream",
          "name": "stdout",
          "text": [
            "No landmarks detected for /content/drive/MyDrive/deep_learning_project/Dataset/TRAIN/warrior_train/00000177_augmented_1.jpg\n"
          ]
        },
        {
          "output_type": "stream",
          "name": "stderr",
          "text": [
            " 59%|█████▉    | 951/1602 [01:53<01:01, 10.55it/s]"
          ]
        },
        {
          "output_type": "stream",
          "name": "stdout",
          "text": [
            "No landmarks detected for /content/drive/MyDrive/deep_learning_project/Dataset/TRAIN/warrior_train/00000142_augmented_5.jpg\n"
          ]
        },
        {
          "output_type": "stream",
          "name": "stderr",
          "text": [
            " 60%|█████▉    | 960/1602 [01:54<00:59, 10.74it/s]"
          ]
        },
        {
          "output_type": "stream",
          "name": "stdout",
          "text": [
            "No landmarks detected for /content/drive/MyDrive/deep_learning_project/Dataset/TRAIN/warrior_train/00000142_augmented_0.jpg\n"
          ]
        },
        {
          "output_type": "stream",
          "name": "stderr",
          "text": [
            " 61%|██████    | 970/1602 [01:55<01:12,  8.76it/s]"
          ]
        },
        {
          "output_type": "stream",
          "name": "stdout",
          "text": [
            "No landmarks detected for /content/drive/MyDrive/deep_learning_project/Dataset/TRAIN/warrior_train/00000268_augmented_3.jpg\n"
          ]
        },
        {
          "output_type": "stream",
          "name": "stderr",
          "text": [
            " 61%|██████    | 975/1602 [01:55<01:03,  9.83it/s]"
          ]
        },
        {
          "output_type": "stream",
          "name": "stdout",
          "text": [
            "No landmarks detected for /content/drive/MyDrive/deep_learning_project/Dataset/TRAIN/warrior_train/00000137_augmented_2.jpg\n"
          ]
        },
        {
          "output_type": "stream",
          "name": "stderr",
          "text": [
            " 61%|██████    | 980/1602 [01:56<00:59, 10.49it/s]"
          ]
        },
        {
          "output_type": "stream",
          "name": "stdout",
          "text": [
            "No landmarks detected for /content/drive/MyDrive/deep_learning_project/Dataset/TRAIN/warrior_train/00000178_augmented_4.jpg\n"
          ]
        },
        {
          "output_type": "stream",
          "name": "stderr",
          "text": [
            " 62%|██████▏   | 992/1602 [01:57<00:51, 11.77it/s]"
          ]
        },
        {
          "output_type": "stream",
          "name": "stdout",
          "text": [
            "No landmarks detected for /content/drive/MyDrive/deep_learning_project/Dataset/TRAIN/warrior_train/00000326.jpg\n"
          ]
        },
        {
          "output_type": "stream",
          "name": "stderr",
          "text": [
            " 63%|██████▎   | 1005/1602 [01:58<00:38, 15.49it/s]"
          ]
        },
        {
          "output_type": "stream",
          "name": "stdout",
          "text": [
            "No landmarks detected for /content/drive/MyDrive/deep_learning_project/Dataset/TRAIN/warrior_train/00000137_augmented_6.jpg\n"
          ]
        },
        {
          "output_type": "stream",
          "name": "stderr",
          "text": [
            " 63%|██████▎   | 1016/1602 [01:59<00:38, 15.27it/s]"
          ]
        },
        {
          "output_type": "stream",
          "name": "stdout",
          "text": [
            "No landmarks detected for /content/drive/MyDrive/deep_learning_project/Dataset/TRAIN/warrior_train/00000178_augmented_5.jpg\n"
          ]
        },
        {
          "output_type": "stream",
          "name": "stderr",
          "text": [
            " 66%|██████▌   | 1060/1602 [02:02<00:38, 14.00it/s]"
          ]
        },
        {
          "output_type": "stream",
          "name": "stdout",
          "text": [
            "No landmarks detected for /content/drive/MyDrive/deep_learning_project/Dataset/TRAIN/warrior_train/00000215_augmented_7.jpg\n"
          ]
        },
        {
          "output_type": "stream",
          "name": "stderr",
          "text": [
            " 69%|██████▊   | 1098/1602 [02:05<00:36, 13.90it/s]"
          ]
        },
        {
          "output_type": "stream",
          "name": "stdout",
          "text": [
            "No landmarks detected for /content/drive/MyDrive/deep_learning_project/Dataset/TRAIN/warrior_train/00000177_augmented_4.jpg\n"
          ]
        },
        {
          "output_type": "stream",
          "name": "stderr",
          "text": [
            " 72%|███████▏  | 1159/1602 [02:11<00:43, 10.26it/s]"
          ]
        },
        {
          "output_type": "stream",
          "name": "stdout",
          "text": [
            "No landmarks detected for /content/drive/MyDrive/deep_learning_project/Dataset/TRAIN/warrior_train/00000137.jpg\n"
          ]
        },
        {
          "output_type": "stream",
          "name": "stderr",
          "text": [
            " 73%|███████▎  | 1175/1602 [02:12<00:29, 14.32it/s]"
          ]
        },
        {
          "output_type": "stream",
          "name": "stdout",
          "text": [
            "No landmarks detected for /content/drive/MyDrive/deep_learning_project/Dataset/TRAIN/warrior_train/00000178_augmented_7.jpg\n"
          ]
        },
        {
          "output_type": "stream",
          "name": "stderr",
          "text": [
            " 74%|███████▍  | 1183/1602 [02:13<00:27, 15.44it/s]"
          ]
        },
        {
          "output_type": "stream",
          "name": "stdout",
          "text": [
            "No landmarks detected for /content/drive/MyDrive/deep_learning_project/Dataset/TRAIN/warrior_train/00000137_augmented_1.jpg\n"
          ]
        },
        {
          "output_type": "stream",
          "name": "stderr",
          "text": [
            " 74%|███████▍  | 1188/1602 [02:13<00:34, 11.96it/s]"
          ]
        },
        {
          "output_type": "stream",
          "name": "stdout",
          "text": [
            "No landmarks detected for /content/drive/MyDrive/deep_learning_project/Dataset/TRAIN/warrior_train/00000137_augmented_3.jpg\n"
          ]
        },
        {
          "output_type": "stream",
          "name": "stderr",
          "text": [
            " 74%|███████▍  | 1193/1602 [02:13<00:28, 14.12it/s]"
          ]
        },
        {
          "output_type": "stream",
          "name": "stdout",
          "text": [
            "No landmarks detected for /content/drive/MyDrive/deep_learning_project/Dataset/TRAIN/warrior_train/00000142_augmented_1.jpg\n"
          ]
        },
        {
          "output_type": "stream",
          "name": "stderr",
          "text": [
            " 80%|███████▉  | 1275/1602 [02:19<00:24, 13.62it/s]"
          ]
        },
        {
          "output_type": "stream",
          "name": "stdout",
          "text": [
            "No landmarks detected for /content/drive/MyDrive/deep_learning_project/Dataset/TRAIN/warrior_train/00000287_augmented_1.png\n"
          ]
        },
        {
          "output_type": "stream",
          "name": "stderr",
          "text": [
            " 80%|████████  | 1286/1602 [02:20<00:20, 15.76it/s]"
          ]
        },
        {
          "output_type": "stream",
          "name": "stdout",
          "text": [
            "No landmarks detected for /content/drive/MyDrive/deep_learning_project/Dataset/TRAIN/warrior_train/00000326_augmented_3.jpg\n"
          ]
        },
        {
          "output_type": "stream",
          "name": "stderr",
          "text": [
            " 82%|████████▏ | 1316/1602 [02:23<00:26, 10.69it/s]"
          ]
        },
        {
          "output_type": "stream",
          "name": "stdout",
          "text": [
            "No landmarks detected for /content/drive/MyDrive/deep_learning_project/Dataset/TRAIN/warrior_train/00000137_augmented_0.jpg\n"
          ]
        },
        {
          "output_type": "stream",
          "name": "stderr",
          "text": [
            " 83%|████████▎ | 1327/1602 [02:24<00:26, 10.19it/s]"
          ]
        },
        {
          "output_type": "stream",
          "name": "stdout",
          "text": [
            "No landmarks detected for /content/drive/MyDrive/deep_learning_project/Dataset/TRAIN/warrior_train/00000178_augmented_6.jpg\n"
          ]
        },
        {
          "output_type": "stream",
          "name": "stderr",
          "text": [
            " 83%|████████▎ | 1337/1602 [02:25<00:24, 10.61it/s]"
          ]
        },
        {
          "output_type": "stream",
          "name": "stdout",
          "text": [
            "No landmarks detected for /content/drive/MyDrive/deep_learning_project/Dataset/TRAIN/warrior_train/00000326_augmented_5.jpg\n"
          ]
        },
        {
          "output_type": "stream",
          "name": "stderr",
          "text": [
            " 89%|████████▊ | 1421/1602 [02:31<00:11, 15.13it/s]"
          ]
        },
        {
          "output_type": "stream",
          "name": "stdout",
          "text": [
            "No landmarks detected for /content/drive/MyDrive/deep_learning_project/Dataset/TRAIN/warrior_train/00000326_augmented_1.jpg\n"
          ]
        },
        {
          "output_type": "stream",
          "name": "stderr",
          "text": [
            " 90%|█████████ | 1446/1602 [02:33<00:10, 15.20it/s]"
          ]
        },
        {
          "output_type": "stream",
          "name": "stdout",
          "text": [
            "No landmarks detected for /content/drive/MyDrive/deep_learning_project/Dataset/TRAIN/warrior_train/00000326_augmented_0.jpg\n"
          ]
        },
        {
          "output_type": "stream",
          "name": "stderr",
          "text": [
            " 92%|█████████▏| 1480/1602 [02:36<00:08, 14.84it/s]"
          ]
        },
        {
          "output_type": "stream",
          "name": "stdout",
          "text": [
            "No landmarks detected for /content/drive/MyDrive/deep_learning_project/Dataset/TRAIN/warrior_train/00000326_augmented_7.jpg\n"
          ]
        },
        {
          "output_type": "stream",
          "name": "stderr",
          "text": [
            " 93%|█████████▎| 1494/1602 [02:37<00:08, 13.22it/s]"
          ]
        },
        {
          "output_type": "stream",
          "name": "stdout",
          "text": [
            "No landmarks detected for /content/drive/MyDrive/deep_learning_project/Dataset/TRAIN/warrior_train/00000326_augmented_6.jpg\n"
          ]
        },
        {
          "output_type": "stream",
          "name": "stderr",
          "text": [
            " 98%|█████████▊| 1563/1602 [02:43<00:02, 14.45it/s]"
          ]
        },
        {
          "output_type": "stream",
          "name": "stdout",
          "text": [
            "No landmarks detected for /content/drive/MyDrive/deep_learning_project/Dataset/TRAIN/warrior_train/00000287_augmented_7.png\n"
          ]
        },
        {
          "output_type": "stream",
          "name": "stderr",
          "text": [
            " 98%|█████████▊| 1570/1602 [02:44<00:01, 16.06it/s]"
          ]
        },
        {
          "output_type": "stream",
          "name": "stdout",
          "text": [
            "No landmarks detected for /content/drive/MyDrive/deep_learning_project/Dataset/TRAIN/warrior_train/00000270_augmented_5.jpg\n"
          ]
        },
        {
          "output_type": "stream",
          "name": "stderr",
          "text": [
            "100%|█████████▉| 1599/1602 [02:46<00:00, 16.94it/s]"
          ]
        },
        {
          "output_type": "stream",
          "name": "stdout",
          "text": [
            "No landmarks detected for /content/drive/MyDrive/deep_learning_project/Dataset/TRAIN/warrior_train/00000182.jpg\n",
            "No landmarks detected for /content/drive/MyDrive/deep_learning_project/Dataset/TRAIN/warrior_train/00000198_augmented_0.jpg\n"
          ]
        },
        {
          "output_type": "stream",
          "name": "stderr",
          "text": [
            "100%|██████████| 1602/1602 [02:46<00:00,  9.62it/s]\n"
          ]
        },
        {
          "output_type": "stream",
          "name": "stdout",
          "text": [
            "Processing Validation Data...\n",
            "Classes found: ['downdog_val', 'goddess_val', 'plank_val', 'tree_val', 'warrior_val']\n",
            "Processing 'downdog_val' with label 0\n"
          ]
        },
        {
          "output_type": "stream",
          "name": "stderr",
          "text": [
            "  9%|▉         | 6/66 [00:02<00:23,  2.51it/s]"
          ]
        },
        {
          "output_type": "stream",
          "name": "stdout",
          "text": [
            "No landmarks detected for /content/drive/MyDrive/deep_learning_project/Dataset/VALIDATION/downdog_val/00000350.jpg\n"
          ]
        },
        {
          "output_type": "stream",
          "name": "stderr",
          "text": [
            " 39%|███▉      | 26/66 [00:09<00:09,  4.13it/s]"
          ]
        },
        {
          "output_type": "stream",
          "name": "stdout",
          "text": [
            "No landmarks detected for /content/drive/MyDrive/deep_learning_project/Dataset/VALIDATION/downdog_val/00000361.jpg\n"
          ]
        },
        {
          "output_type": "stream",
          "name": "stderr",
          "text": [
            " 65%|██████▌   | 43/66 [00:14<00:06,  3.29it/s]"
          ]
        },
        {
          "output_type": "stream",
          "name": "stdout",
          "text": [
            "No landmarks detected for /content/drive/MyDrive/deep_learning_project/Dataset/VALIDATION/downdog_val/00000367.png\n"
          ]
        },
        {
          "output_type": "stream",
          "name": "stderr",
          "text": [
            " 73%|███████▎  | 48/66 [00:16<00:06,  2.97it/s]"
          ]
        },
        {
          "output_type": "stream",
          "name": "stdout",
          "text": [
            "No landmarks detected for /content/drive/MyDrive/deep_learning_project/Dataset/VALIDATION/downdog_val/00000381.jpg\n"
          ]
        },
        {
          "output_type": "stream",
          "name": "stderr",
          "text": [
            " 92%|█████████▏| 61/66 [00:20<00:01,  3.18it/s]"
          ]
        },
        {
          "output_type": "stream",
          "name": "stdout",
          "text": [
            "No landmarks detected for /content/drive/MyDrive/deep_learning_project/Dataset/VALIDATION/downdog_val/00000340.jpg\n"
          ]
        },
        {
          "output_type": "stream",
          "name": "stderr",
          "text": [
            " 95%|█████████▌| 63/66 [00:21<00:00,  3.12it/s]"
          ]
        },
        {
          "output_type": "stream",
          "name": "stdout",
          "text": [
            "No landmarks detected for /content/drive/MyDrive/deep_learning_project/Dataset/VALIDATION/downdog_val/00000387.jpg\n"
          ]
        },
        {
          "output_type": "stream",
          "name": "stderr",
          "text": [
            "100%|██████████| 66/66 [00:22<00:00,  2.97it/s]\n"
          ]
        },
        {
          "output_type": "stream",
          "name": "stdout",
          "text": [
            "Processing 'goddess_val' with label 1\n"
          ]
        },
        {
          "output_type": "stream",
          "name": "stderr",
          "text": [
            "100%|██████████| 42/42 [00:13<00:00,  3.11it/s]\n"
          ]
        },
        {
          "output_type": "stream",
          "name": "stdout",
          "text": [
            "Processing 'plank_val' with label 2\n"
          ]
        },
        {
          "output_type": "stream",
          "name": "stderr",
          "text": [
            " 32%|███▏      | 24/75 [00:07<00:14,  3.61it/s]"
          ]
        },
        {
          "output_type": "stream",
          "name": "stdout",
          "text": [
            "No landmarks detected for /content/drive/MyDrive/deep_learning_project/Dataset/VALIDATION/plank_val/00000378.jpg\n"
          ]
        },
        {
          "output_type": "stream",
          "name": "stderr",
          "text": [
            "100%|██████████| 75/75 [00:22<00:00,  3.34it/s]\n"
          ]
        },
        {
          "output_type": "stream",
          "name": "stdout",
          "text": [
            "Processing 'tree_val' with label 3\n"
          ]
        },
        {
          "output_type": "stream",
          "name": "stderr",
          "text": [
            "100%|██████████| 27/27 [00:08<00:00,  3.08it/s]\n"
          ]
        },
        {
          "output_type": "stream",
          "name": "stdout",
          "text": [
            "Processing 'warrior_val' with label 4\n"
          ]
        },
        {
          "output_type": "stream",
          "name": "stderr",
          "text": [
            "100%|██████████| 74/74 [00:22<00:00,  3.29it/s]\n"
          ]
        },
        {
          "output_type": "stream",
          "name": "stdout",
          "text": [
            "Processing Test Data...\n",
            "Classes found: ['downdog_test', 'goddess_test', 'plank_test', 'tree_test', 'warrior_test']\n",
            "Processing 'downdog_test' with label 0\n"
          ]
        },
        {
          "output_type": "stream",
          "name": "stderr",
          "text": [
            "  6%|▌         | 6/97 [00:03<00:42,  2.15it/s]"
          ]
        },
        {
          "output_type": "stream",
          "name": "stdout",
          "text": [
            "No landmarks detected for /content/drive/MyDrive/deep_learning_project/Dataset/TEST/downdog_test/00000010.png\n"
          ]
        },
        {
          "output_type": "stream",
          "name": "stderr",
          "text": [
            " 25%|██▍       | 24/97 [00:08<00:22,  3.19it/s]"
          ]
        },
        {
          "output_type": "stream",
          "name": "stdout",
          "text": [
            "No landmarks detected for /content/drive/MyDrive/deep_learning_project/Dataset/TEST/downdog_test/00000080.jpg\n"
          ]
        },
        {
          "output_type": "stream",
          "name": "stderr",
          "text": [
            " 39%|███▉      | 38/97 [00:13<00:14,  4.06it/s]"
          ]
        },
        {
          "output_type": "stream",
          "name": "stdout",
          "text": [
            "No landmarks detected for /content/drive/MyDrive/deep_learning_project/Dataset/TEST/downdog_test/00000120.jpg\n"
          ]
        },
        {
          "output_type": "stream",
          "name": "stderr",
          "text": [
            "100%|██████████| 97/97 [00:34<00:00,  2.82it/s]\n"
          ]
        },
        {
          "output_type": "stream",
          "name": "stdout",
          "text": [
            "Processing 'goddess_test' with label 1\n"
          ]
        },
        {
          "output_type": "stream",
          "name": "stderr",
          "text": [
            "100%|██████████| 80/80 [00:26<00:00,  3.05it/s]\n"
          ]
        },
        {
          "output_type": "stream",
          "name": "stdout",
          "text": [
            "Processing 'plank_test' with label 2\n"
          ]
        },
        {
          "output_type": "stream",
          "name": "stderr",
          "text": [
            "100%|██████████| 115/115 [00:13<00:00,  8.43it/s]\n"
          ]
        },
        {
          "output_type": "stream",
          "name": "stdout",
          "text": [
            "Processing 'tree_test' with label 3\n"
          ]
        },
        {
          "output_type": "stream",
          "name": "stderr",
          "text": [
            "100%|██████████| 69/69 [00:24<00:00,  2.79it/s]\n"
          ]
        },
        {
          "output_type": "stream",
          "name": "stdout",
          "text": [
            "Processing 'warrior_test' with label 4\n"
          ]
        },
        {
          "output_type": "stream",
          "name": "stderr",
          "text": [
            " 30%|███       | 33/109 [00:03<00:05, 14.18it/s]"
          ]
        },
        {
          "output_type": "stream",
          "name": "stdout",
          "text": [
            "No landmarks detected for /content/drive/MyDrive/deep_learning_project/Dataset/TEST/warrior_test/00000025.png\n"
          ]
        },
        {
          "output_type": "stream",
          "name": "stderr",
          "text": [
            "100%|██████████| 109/109 [00:11<00:00,  9.47it/s]"
          ]
        },
        {
          "output_type": "stream",
          "name": "stdout",
          "text": [
            "No landmarks detected for /content/drive/MyDrive/deep_learning_project/Dataset/TEST/warrior_test/00000039.png\n",
            "✅ Saved all processed datasets successfully!\n",
            "Train shape: (6119, 99), Val shape: (277, 99), Test shape: (465, 99)\n"
          ]
        },
        {
          "output_type": "stream",
          "name": "stderr",
          "text": [
            "\n"
          ]
        }
      ]
    },
    {
      "cell_type": "code",
      "source": [
        "import numpy as np\n",
        "\n",
        "# loading datasets\n",
        "X_train = np.load('X_train_blazepose.npy')\n",
        "Y_train = np.load('Y_train_blazepose.npy')\n",
        "\n",
        "X_val = np.load('X_val_blazepose.npy')\n",
        "Y_val = np.load('Y_val_blazepose.npy')\n",
        "\n",
        "X_test = np.load('X_test_blazepose.npy')\n",
        "Y_test = np.load('Y_test_blazepose.npy')\n",
        "\n",
        "print(\"Data loaded\")\n",
        "print(f\"Train shape: {X_train.shape}, Validation shape: {X_val.shape}, Test shape: {X_test.shape}\")"
      ],
      "metadata": {
        "colab": {
          "base_uri": "https://localhost:8080/"
        },
        "id": "mVAlM7HIs7S-",
        "outputId": "eded9eca-df60-4257-fd62-ab16e1ca3f83"
      },
      "execution_count": 5,
      "outputs": [
        {
          "output_type": "stream",
          "name": "stdout",
          "text": [
            "Data loaded\n",
            "Train shape: (6119, 99), Validation shape: (277, 99), Test shape: (465, 99)\n"
          ]
        }
      ]
    },
    {
      "cell_type": "code",
      "source": [
        "# baseline model\n",
        "from sklearn.linear_model import LogisticRegression\n",
        "from sklearn.metrics import accuracy_score, classification_report, confusion_matrix\n",
        "\n",
        "# initialize and train logistic regression\n",
        "baseline_model = LogisticRegression(max_iter=1000, random_state=42)\n",
        "baseline_model.fit(X_train, Y_train)\n",
        "\n",
        "# evaluate on validation set\n",
        "val_preds_baseline = baseline_model.predict(X_val)\n",
        "baseline_accuracy = accuracy_score(Y_val, val_preds_baseline)\n",
        "\n",
        "print(f\"Baseline Validation Accuracy: {baseline_accuracy:.4f}\")\n",
        "print(\"\\nClassification Report:\\n\", classification_report(Y_val, val_preds_baseline))"
      ],
      "metadata": {
        "colab": {
          "base_uri": "https://localhost:8080/"
        },
        "id": "0VdmID8DtCxD",
        "outputId": "7d831b43-918c-4540-928a-c178fbc7ec89"
      },
      "execution_count": 6,
      "outputs": [
        {
          "output_type": "stream",
          "name": "stdout",
          "text": [
            "Baseline Validation Accuracy: 0.8556\n",
            "\n",
            "Classification Report:\n",
            "               precision    recall  f1-score   support\n",
            "\n",
            "           0       0.96      0.88      0.92        60\n",
            "           1       0.88      0.83      0.85        42\n",
            "           2       0.84      0.92      0.88        74\n",
            "           3       0.66      1.00      0.79        27\n",
            "           4       0.90      0.73      0.81        74\n",
            "\n",
            "    accuracy                           0.86       277\n",
            "   macro avg       0.85      0.87      0.85       277\n",
            "weighted avg       0.87      0.86      0.86       277\n",
            "\n"
          ]
        }
      ]
    },
    {
      "cell_type": "code",
      "source": [
        "# deep learning model version (should be much better)\n",
        "\n",
        "import tensorflow as tf\n",
        "from tensorflow.keras.models import Sequential\n",
        "from tensorflow.keras.layers import Dense, Dropout\n",
        "\n",
        "# building the MLP model\n",
        "deep_model = Sequential([\n",
        "    Dense(128, activation='relu', input_shape=(99,)),\n",
        "    Dropout(0.3),\n",
        "    Dense(64, activation='relu'),\n",
        "    Dropout(0.3),\n",
        "    Dense(len(np.unique(Y_train)), activation='softmax')  # Output layer: 5 classes\n",
        "])\n",
        "\n",
        "# compiling...\n",
        "deep_model.compile(optimizer='adam', loss='sparse_categorical_crossentropy', metrics=['accuracy'])\n",
        "\n",
        "# train!\n",
        "history = deep_model.fit(X_train, Y_train, epochs=30, validation_data=(X_val, Y_val))"
      ],
      "metadata": {
        "colab": {
          "base_uri": "https://localhost:8080/"
        },
        "id": "gu35CJQStUuj",
        "outputId": "6e27ae82-3439-4ad4-fd41-229b3ed22cf8"
      },
      "execution_count": 7,
      "outputs": [
        {
          "output_type": "stream",
          "name": "stderr",
          "text": [
            "/usr/local/lib/python3.11/dist-packages/keras/src/layers/core/dense.py:87: UserWarning: Do not pass an `input_shape`/`input_dim` argument to a layer. When using Sequential models, prefer using an `Input(shape)` object as the first layer in the model instead.\n",
            "  super().__init__(activity_regularizer=activity_regularizer, **kwargs)\n"
          ]
        },
        {
          "output_type": "stream",
          "name": "stdout",
          "text": [
            "Epoch 1/30\n",
            "\u001b[1m192/192\u001b[0m \u001b[32m━━━━━━━━━━━━━━━━━━━━\u001b[0m\u001b[37m\u001b[0m \u001b[1m3s\u001b[0m 7ms/step - accuracy: 0.4155 - loss: 1.3424 - val_accuracy: 0.7545 - val_loss: 0.6363\n",
            "Epoch 2/30\n",
            "\u001b[1m192/192\u001b[0m \u001b[32m━━━━━━━━━━━━━━━━━━━━\u001b[0m\u001b[37m\u001b[0m \u001b[1m1s\u001b[0m 5ms/step - accuracy: 0.7654 - loss: 0.6546 - val_accuracy: 0.8484 - val_loss: 0.4435\n",
            "Epoch 3/30\n",
            "\u001b[1m192/192\u001b[0m \u001b[32m━━━━━━━━━━━━━━━━━━━━\u001b[0m\u001b[37m\u001b[0m \u001b[1m1s\u001b[0m 5ms/step - accuracy: 0.8547 - loss: 0.4579 - val_accuracy: 0.8773 - val_loss: 0.3460\n",
            "Epoch 4/30\n",
            "\u001b[1m192/192\u001b[0m \u001b[32m━━━━━━━━━━━━━━━━━━━━\u001b[0m\u001b[37m\u001b[0m \u001b[1m1s\u001b[0m 4ms/step - accuracy: 0.8656 - loss: 0.3997 - val_accuracy: 0.9134 - val_loss: 0.3159\n",
            "Epoch 5/30\n",
            "\u001b[1m192/192\u001b[0m \u001b[32m━━━━━━━━━━━━━━━━━━━━\u001b[0m\u001b[37m\u001b[0m \u001b[1m1s\u001b[0m 3ms/step - accuracy: 0.8765 - loss: 0.3784 - val_accuracy: 0.9170 - val_loss: 0.2805\n",
            "Epoch 6/30\n",
            "\u001b[1m192/192\u001b[0m \u001b[32m━━━━━━━━━━━━━━━━━━━━\u001b[0m\u001b[37m\u001b[0m \u001b[1m1s\u001b[0m 3ms/step - accuracy: 0.8887 - loss: 0.3390 - val_accuracy: 0.9314 - val_loss: 0.2881\n",
            "Epoch 7/30\n",
            "\u001b[1m192/192\u001b[0m \u001b[32m━━━━━━━━━━━━━━━━━━━━\u001b[0m\u001b[37m\u001b[0m \u001b[1m1s\u001b[0m 3ms/step - accuracy: 0.9010 - loss: 0.2974 - val_accuracy: 0.9350 - val_loss: 0.2611\n",
            "Epoch 8/30\n",
            "\u001b[1m192/192\u001b[0m \u001b[32m━━━━━━━━━━━━━━━━━━━━\u001b[0m\u001b[37m\u001b[0m \u001b[1m1s\u001b[0m 3ms/step - accuracy: 0.9126 - loss: 0.2702 - val_accuracy: 0.9206 - val_loss: 0.2826\n",
            "Epoch 9/30\n",
            "\u001b[1m192/192\u001b[0m \u001b[32m━━━━━━━━━━━━━━━━━━━━\u001b[0m\u001b[37m\u001b[0m \u001b[1m1s\u001b[0m 3ms/step - accuracy: 0.9080 - loss: 0.2818 - val_accuracy: 0.9206 - val_loss: 0.2485\n",
            "Epoch 10/30\n",
            "\u001b[1m192/192\u001b[0m \u001b[32m━━━━━━━━━━━━━━━━━━━━\u001b[0m\u001b[37m\u001b[0m \u001b[1m1s\u001b[0m 3ms/step - accuracy: 0.9114 - loss: 0.2593 - val_accuracy: 0.9061 - val_loss: 0.2732\n",
            "Epoch 11/30\n",
            "\u001b[1m192/192\u001b[0m \u001b[32m━━━━━━━━━━━━━━━━━━━━\u001b[0m\u001b[37m\u001b[0m \u001b[1m1s\u001b[0m 3ms/step - accuracy: 0.9201 - loss: 0.2384 - val_accuracy: 0.9422 - val_loss: 0.2633\n",
            "Epoch 12/30\n",
            "\u001b[1m192/192\u001b[0m \u001b[32m━━━━━━━━━━━━━━━━━━━━\u001b[0m\u001b[37m\u001b[0m \u001b[1m1s\u001b[0m 3ms/step - accuracy: 0.9234 - loss: 0.2415 - val_accuracy: 0.9350 - val_loss: 0.2570\n",
            "Epoch 13/30\n",
            "\u001b[1m192/192\u001b[0m \u001b[32m━━━━━━━━━━━━━━━━━━━━\u001b[0m\u001b[37m\u001b[0m \u001b[1m1s\u001b[0m 3ms/step - accuracy: 0.9308 - loss: 0.2251 - val_accuracy: 0.9242 - val_loss: 0.2676\n",
            "Epoch 14/30\n",
            "\u001b[1m192/192\u001b[0m \u001b[32m━━━━━━━━━━━━━━━━━━━━\u001b[0m\u001b[37m\u001b[0m \u001b[1m1s\u001b[0m 3ms/step - accuracy: 0.9346 - loss: 0.1989 - val_accuracy: 0.9350 - val_loss: 0.2613\n",
            "Epoch 15/30\n",
            "\u001b[1m192/192\u001b[0m \u001b[32m━━━━━━━━━━━━━━━━━━━━\u001b[0m\u001b[37m\u001b[0m \u001b[1m1s\u001b[0m 3ms/step - accuracy: 0.9346 - loss: 0.2146 - val_accuracy: 0.9242 - val_loss: 0.2556\n",
            "Epoch 16/30\n",
            "\u001b[1m192/192\u001b[0m \u001b[32m━━━━━━━━━━━━━━━━━━━━\u001b[0m\u001b[37m\u001b[0m \u001b[1m1s\u001b[0m 3ms/step - accuracy: 0.9366 - loss: 0.2044 - val_accuracy: 0.9350 - val_loss: 0.2607\n",
            "Epoch 17/30\n",
            "\u001b[1m192/192\u001b[0m \u001b[32m━━━━━━━━━━━━━━━━━━━━\u001b[0m\u001b[37m\u001b[0m \u001b[1m1s\u001b[0m 4ms/step - accuracy: 0.9364 - loss: 0.2019 - val_accuracy: 0.9206 - val_loss: 0.2753\n",
            "Epoch 18/30\n",
            "\u001b[1m192/192\u001b[0m \u001b[32m━━━━━━━━━━━━━━━━━━━━\u001b[0m\u001b[37m\u001b[0m \u001b[1m2s\u001b[0m 5ms/step - accuracy: 0.9438 - loss: 0.1842 - val_accuracy: 0.9134 - val_loss: 0.2731\n",
            "Epoch 19/30\n",
            "\u001b[1m192/192\u001b[0m \u001b[32m━━━━━━━━━━━━━━━━━━━━\u001b[0m\u001b[37m\u001b[0m \u001b[1m1s\u001b[0m 5ms/step - accuracy: 0.9451 - loss: 0.1834 - val_accuracy: 0.9278 - val_loss: 0.2606\n",
            "Epoch 20/30\n",
            "\u001b[1m192/192\u001b[0m \u001b[32m━━━━━━━━━━━━━━━━━━━━\u001b[0m\u001b[37m\u001b[0m \u001b[1m1s\u001b[0m 5ms/step - accuracy: 0.9388 - loss: 0.1990 - val_accuracy: 0.9170 - val_loss: 0.2808\n",
            "Epoch 21/30\n",
            "\u001b[1m192/192\u001b[0m \u001b[32m━━━━━━━━━━━━━━━━━━━━\u001b[0m\u001b[37m\u001b[0m \u001b[1m1s\u001b[0m 3ms/step - accuracy: 0.9405 - loss: 0.1808 - val_accuracy: 0.9061 - val_loss: 0.2983\n",
            "Epoch 22/30\n",
            "\u001b[1m192/192\u001b[0m \u001b[32m━━━━━━━━━━━━━━━━━━━━\u001b[0m\u001b[37m\u001b[0m \u001b[1m1s\u001b[0m 4ms/step - accuracy: 0.9388 - loss: 0.1807 - val_accuracy: 0.9458 - val_loss: 0.2346\n",
            "Epoch 23/30\n",
            "\u001b[1m192/192\u001b[0m \u001b[32m━━━━━━━━━━━━━━━━━━━━\u001b[0m\u001b[37m\u001b[0m \u001b[1m1s\u001b[0m 3ms/step - accuracy: 0.9468 - loss: 0.1634 - val_accuracy: 0.9422 - val_loss: 0.2701\n",
            "Epoch 24/30\n",
            "\u001b[1m192/192\u001b[0m \u001b[32m━━━━━━━━━━━━━━━━━━━━\u001b[0m\u001b[37m\u001b[0m \u001b[1m1s\u001b[0m 3ms/step - accuracy: 0.9491 - loss: 0.1588 - val_accuracy: 0.9386 - val_loss: 0.2610\n",
            "Epoch 25/30\n",
            "\u001b[1m192/192\u001b[0m \u001b[32m━━━━━━━━━━━━━━━━━━━━\u001b[0m\u001b[37m\u001b[0m \u001b[1m1s\u001b[0m 3ms/step - accuracy: 0.9543 - loss: 0.1491 - val_accuracy: 0.9134 - val_loss: 0.2743\n",
            "Epoch 26/30\n",
            "\u001b[1m192/192\u001b[0m \u001b[32m━━━━━━━━━━━━━━━━━━━━\u001b[0m\u001b[37m\u001b[0m \u001b[1m1s\u001b[0m 4ms/step - accuracy: 0.9507 - loss: 0.1654 - val_accuracy: 0.9495 - val_loss: 0.2423\n",
            "Epoch 27/30\n",
            "\u001b[1m192/192\u001b[0m \u001b[32m━━━━━━━━━━━━━━━━━━━━\u001b[0m\u001b[37m\u001b[0m \u001b[1m1s\u001b[0m 4ms/step - accuracy: 0.9426 - loss: 0.1673 - val_accuracy: 0.9350 - val_loss: 0.2751\n",
            "Epoch 28/30\n",
            "\u001b[1m192/192\u001b[0m \u001b[32m━━━━━━━━━━━━━━━━━━━━\u001b[0m\u001b[37m\u001b[0m \u001b[1m1s\u001b[0m 3ms/step - accuracy: 0.9561 - loss: 0.1432 - val_accuracy: 0.9314 - val_loss: 0.2526\n",
            "Epoch 29/30\n",
            "\u001b[1m192/192\u001b[0m \u001b[32m━━━━━━━━━━━━━━━━━━━━\u001b[0m\u001b[37m\u001b[0m \u001b[1m2s\u001b[0m 6ms/step - accuracy: 0.9528 - loss: 0.1396 - val_accuracy: 0.9422 - val_loss: 0.2529\n",
            "Epoch 30/30\n",
            "\u001b[1m192/192\u001b[0m \u001b[32m━━━━━━━━━━━━━━━━━━━━\u001b[0m\u001b[37m\u001b[0m \u001b[1m1s\u001b[0m 5ms/step - accuracy: 0.9522 - loss: 0.1454 - val_accuracy: 0.9350 - val_loss: 0.2483\n"
          ]
        }
      ]
    },
    {
      "cell_type": "code",
      "source": [
        "# final deep learning model test on test set\n",
        "test_loss, test_accuracy = deep_model.evaluate(X_test, Y_test)\n",
        "print(f\"Test Accuracy: {test_accuracy:.4f}\")\n",
        "\n",
        "# classification report\n",
        "from sklearn.metrics import classification_report\n",
        "\n",
        "y_pred_test = np.argmax(deep_model.predict(X_test), axis=1)\n",
        "print(\"\\nClassification Report on Test Set:\\n\")\n",
        "print(classification_report(Y_test, y_pred_test, target_names=class_names_train))"
      ],
      "metadata": {
        "colab": {
          "base_uri": "https://localhost:8080/"
        },
        "id": "GFFLNDdEtqna",
        "outputId": "59cce1ab-3609-4342-b067-30ae6022921e"
      },
      "execution_count": 8,
      "outputs": [
        {
          "output_type": "stream",
          "name": "stdout",
          "text": [
            "\u001b[1m15/15\u001b[0m \u001b[32m━━━━━━━━━━━━━━━━━━━━\u001b[0m\u001b[37m\u001b[0m \u001b[1m0s\u001b[0m 9ms/step - accuracy: 0.9825 - loss: 0.0634 \n",
            "Test Accuracy: 0.9763\n",
            "\u001b[1m15/15\u001b[0m \u001b[32m━━━━━━━━━━━━━━━━━━━━\u001b[0m\u001b[37m\u001b[0m \u001b[1m0s\u001b[0m 6ms/step\n",
            "\n",
            "Classification Report on Test Set:\n",
            "\n",
            "               precision    recall  f1-score   support\n",
            "\n",
            "downdog_train       0.99      1.00      0.99        94\n",
            "goddess_train       0.95      0.94      0.94        80\n",
            "  plank_train       0.99      0.99      0.99       115\n",
            "   tree_train       1.00      0.99      0.99        69\n",
            "warrior_train       0.95      0.96      0.96       107\n",
            "\n",
            "     accuracy                           0.98       465\n",
            "    macro avg       0.98      0.98      0.98       465\n",
            " weighted avg       0.98      0.98      0.98       465\n",
            "\n"
          ]
        }
      ]
    }
  ]
}