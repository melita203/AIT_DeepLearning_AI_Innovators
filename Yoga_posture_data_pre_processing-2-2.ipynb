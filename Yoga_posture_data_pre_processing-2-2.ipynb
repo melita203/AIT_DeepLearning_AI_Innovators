{
 "cells": [
  {
   "cell_type": "code",
   "execution_count": 2,
   "metadata": {
    "colab": {
     "base_uri": "https://localhost:8080/",
     "height": 207
    },
    "id": "XTwh8DLfXTNO",
    "outputId": "02b00f1b-0294-4094-c7d5-b13d8f7bb324"
   },
   "outputs": [
    {
     "name": "stdout",
     "output_type": "stream",
     "text": [
      "Processing class 'downdog_train' with label 0\n",
      "Processing class 'goddess_train' with label 1\n",
      "Processing class 'plank_train' with label 2\n",
      "Processing class 'tree_train' with label 3\n",
      "Error processing /Users/melitamadhurza/Desktop/AIT_Deep_Learning/Dataset/TRAIN/tree_train/00000114.jpg: image file is truncated (1 bytes not processed)\n",
      "Processing class 'warrior_train' with label 4\n",
      "Shape of X (inputs): (6340, 128, 128, 3)\n",
      "Shape of Y (labels): (6340,)\n",
      "Shape of Y (one-hot encoded): (6340, 5)\n"
     ]
    }
   ],
   "source": [
    "import numpy as np\n",
    "from PIL import Image\n",
    "from tensorflow.keras.utils import to_categorical\n",
    "import os\n",
    "\n",
    "IMG_SIZE = (128, 128)\n",
    "\n",
    "dataset_path = '/Users/melitamadhurza/Desktop/AIT_Deep_Learning/Dataset/TRAIN'\n",
    "\n",
    "# intiializing empty lists to store the images and labels\n",
    "X = []\n",
    "Y = []\n",
    "class_names = []\n",
    "\n",
    "# looping through the folders in the dataset\n",
    "#for idx, folder in enumerate(sorted(os.listdir(dataset_path))):\n",
    "for idx, folder in enumerate(sorted(f for f in os.listdir(dataset_path) if os.path.isdir(os.path.join(dataset_path, f)))):\n",
    "    folder_path = os.path.join(dataset_path, folder)\n",
    "    if os.path.isdir(folder_path):\n",
    "        print(f\"Processing class '{folder}' with label {idx}\")\n",
    "        class_names.append(folder)\n",
    "        for filename in os.listdir(folder_path):\n",
    "            if filename.lower().endswith('.jpg'):\n",
    "                file_path = os.path.join(folder_path, filename)\n",
    "                try:\n",
    "                    # open image, convert to RGB, and resize\n",
    "                    img = Image.open(file_path).convert('RGB')\n",
    "                    img = img.resize(IMG_SIZE)\n",
    "\n",
    "                    # convert image to numpy array and normalize pixel values\n",
    "                    img_array = np.array(img) / 255.0\n",
    "                    X.append(img_array)\n",
    "\n",
    "                    # append the abeol\n",
    "                    Y.append(idx)\n",
    "                except Exception as e:\n",
    "                    print(f\"Error processing {file_path}: {e}\")\n",
    "\n",
    "# converting lists to numpy arrays\n",
    "X = np.array(X)\n",
    "Y = np.array(Y)\n",
    "\n",
    "print(\"Shape of X (inputs):\", X.shape)  # should be: (number_of_images, 128, 128, 3)\n",
    "print(\"Shape of Y (labels):\", Y.shape)  # should be: (number_of_images,)\n",
    "\n",
    "Y_onehot = to_categorical(Y, num_classes=len(class_names))\n",
    "print(\"Shape of Y (one-hot encoded):\", Y_onehot.shape)\n",
    "\n",
    "# save\n",
    "np.save('X.npy', X)\n",
    "np.save('Y.npy', Y)\n",
    "np.save('Y_onehot.npy', Y_onehot)"
   ]
  },
  {
   "cell_type": "code",
   "execution_count": null,
   "metadata": {},
   "outputs": [],
   "source": []
  },
  {
   "cell_type": "code",
   "execution_count": null,
   "metadata": {},
   "outputs": [],
   "source": []
  }
 ],
 "metadata": {
  "colab": {
   "provenance": []
  },
  "kernelspec": {
   "display_name": "Python 3 (ipykernel)",
   "language": "python",
   "name": "python3"
  },
  "language_info": {
   "codemirror_mode": {
    "name": "ipython",
    "version": 3
   },
   "file_extension": ".py",
   "mimetype": "text/x-python",
   "name": "python",
   "nbconvert_exporter": "python",
   "pygments_lexer": "ipython3",
   "version": "3.11.7"
  }
 },
 "nbformat": 4,
 "nbformat_minor": 4
}
